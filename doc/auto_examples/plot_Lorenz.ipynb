{
  "cells": [
    {
      "cell_type": "code",
      "execution_count": null,
      "metadata": {
        "collapsed": false
      },
      "outputs": [],
      "source": [
        "%matplotlib inline"
      ]
    },
    {
      "cell_type": "markdown",
      "metadata": {},
      "source": [
        "\n# Example: Lorenz system of differential equations\n\n## About the model\nThis tutorial shows how to perform uncertainty and sensitivity analysis of systems of differential equations with pygpc.\nIn the following, we will analyse a Lorenz oscillator. The governing equations are given by:\n\n\\begin{align}\\frac{\\partial x}{\\partial t} &= \\sigma (y - x)\n\n    \\frac{\\partial y}{\\partial t} &= x (\\rho - z) - y\n\n    \\frac{\\partial z}{\\partial t} &= xy - \\beta z\\end{align}\n\nThe equations are implemented in the testfunction\n:class:`Lorenz system <pygpc.testfunctions.testfunctions.Lorenz_System>`.\nThe system is capable of showing chaotic behaviour and arises from simplified models for physical\nphenomena of lasers, electric circuits, thermodynamics and more. It returns time dependent x, y and z coordinates\nFor each time point is treated as an independent quantity of interest and a separate gPC is performed to investigate\nthe temporal evolutions of the uncertainties.\nThe parameters $\\sigma$, $\\beta$ and $\\rho$ are usually assumed to be positive.\nLorenz used the values $\\sigma=10$, $\\beta=8/3$, and $\\rho=28$. In the present example,\nthey are assumed to be uncertain in defined ranges.\n\nAt first, we import the packages we need to set up the problem.\n"
      ]
    },
    {
      "cell_type": "code",
      "execution_count": null,
      "metadata": {
        "collapsed": false
      },
      "outputs": [],
      "source": [
        "import pygpc\nimport numpy as np\nfrom collections import OrderedDict"
      ]
    },
    {
      "cell_type": "markdown",
      "metadata": {},
      "source": [
        "At first, we are loading the model:\n\n"
      ]
    },
    {
      "cell_type": "code",
      "execution_count": null,
      "metadata": {
        "collapsed": false
      },
      "outputs": [],
      "source": [
        "model = pygpc.testfunctions.Lorenz_System()"
      ]
    },
    {
      "cell_type": "markdown",
      "metadata": {},
      "source": [
        "In the next step, we are defining the random variables (ensure that you are using an OrderedDict! Otherwise,\nthe parameter can be mixed up during postprocessing because Python reorders the parameters in standard dictionaries!).\nFurther details on how to define random variables can be found in the tutorial `How to define a gPC problem`.\n\n"
      ]
    },
    {
      "cell_type": "code",
      "execution_count": null,
      "metadata": {
        "collapsed": false
      },
      "outputs": [],
      "source": [
        "parameters = OrderedDict()\nparameters[\"sigma\"] = pygpc.Beta(pdf_shape=[1, 1], pdf_limits=[10-1, 10+1])\nparameters[\"beta\"] = pygpc.Beta(pdf_shape=[1, 1], pdf_limits=[28-10, 28+10])\nparameters[\"rho\"] = pygpc.Beta(pdf_shape=[1, 1], pdf_limits=[(8/3)-1, (8/3)+1])"
      ]
    },
    {
      "cell_type": "markdown",
      "metadata": {},
      "source": [
        "To complete the parameter definition, we will also define the deterministic parameters, which are assumed to be\nconstant during the uncertainty and sensitivity analysis:\n\n"
      ]
    },
    {
      "cell_type": "code",
      "execution_count": null,
      "metadata": {
        "collapsed": false
      },
      "outputs": [],
      "source": [
        "parameters[\"x_0\"] = 1.0             # initial value for x\nparameters[\"y_0\"] = 1.0             # initial value for y\nparameters[\"z_0\"] = 1.0             # initial value for z\nparameters[\"t_end\"] = 5.0           # end time of simulation\nparameters[\"step_size\"] = 0.05      # step size for differential equation integration"
      ]
    },
    {
      "cell_type": "markdown",
      "metadata": {},
      "source": [
        "With the model and the parameters dictionary, the pygpc problem can be defined:\n\n"
      ]
    },
    {
      "cell_type": "code",
      "execution_count": null,
      "metadata": {
        "collapsed": false
      },
      "outputs": [],
      "source": [
        "problem = pygpc.Problem(model, parameters)"
      ]
    },
    {
      "cell_type": "markdown",
      "metadata": {},
      "source": [
        "Now we are ready to define the gPC options, like expansion orders, error types, gPC matrix properties etc.:\n\n"
      ]
    },
    {
      "cell_type": "code",
      "execution_count": null,
      "metadata": {
        "collapsed": false
      },
      "outputs": [],
      "source": [
        "fn_results = \"tmp/example_lorenz\"\noptions = dict()\noptions[\"order_start\"] = 6\noptions[\"order_end\"] = 20\noptions[\"solver\"] = \"Moore-Penrose\"\noptions[\"interaction_order\"] = 2\noptions[\"order_max_norm\"] = 0.7\noptions[\"n_cpu\"] = 0\noptions[\"error_type\"] = 'nrmsd'\noptions[\"error_norm\"] = 'absolute'\noptions[\"n_samples_validation\"] = 1000\noptions[\"matrix_ratio\"] = 5\noptions[\"fn_results\"] = fn_results\noptions[\"eps\"] = 0.01\noptions[\"grid_options\"] = {\"seed\": 1}"
      ]
    },
    {
      "cell_type": "markdown",
      "metadata": {},
      "source": [
        "Now we chose the algorithm to conduct the gPC expansion and initialize the gPC Session:\n\n"
      ]
    },
    {
      "cell_type": "code",
      "execution_count": null,
      "metadata": {
        "collapsed": false
      },
      "outputs": [],
      "source": [
        "algorithm = pygpc.RegAdaptive(problem=problem, options=options)\nsession = pygpc.Session(algorithm=algorithm)"
      ]
    },
    {
      "cell_type": "markdown",
      "metadata": {},
      "source": [
        "Finally, we are ready to run the gPC. An .hdf5 results file will be created as specified in the options[\"fn_results\"]\nfield from the gPC options dictionary.\n\n"
      ]
    },
    {
      "cell_type": "code",
      "execution_count": null,
      "metadata": {
        "collapsed": false
      },
      "outputs": [],
      "source": [
        "session, coeffs, results = session.run()"
      ]
    },
    {
      "cell_type": "markdown",
      "metadata": {},
      "source": [
        "## Postprocessing\nPostprocess gPC and add sensitivity coefficients to results .hdf5 file\n\n"
      ]
    },
    {
      "cell_type": "code",
      "execution_count": null,
      "metadata": {
        "collapsed": false
      },
      "outputs": [],
      "source": [
        "pygpc.get_sensitivities_hdf5(fn_gpc=session.fn_results,\n                             output_idx=None,\n                             calc_sobol=True,\n                             calc_global_sens=True,\n                             calc_pdf=False,\n                             n_samples=int(1e4))\n\n# extract sensitivity coefficients from results .hdf5 file\nsobol, gsens = pygpc.get_sens_summary(fn_gpc=fn_results,\n                                      parameters_random=session.parameters_random,\n                                      fn_out=fn_results + \"_sens_summary.txt\")\n\n# plot time course of sensitivity coefficients and mean and standard deviation of x(t)\nt = np.arange(0.0, parameters[\"t_end\"], parameters[\"step_size\"])\npygpc.plot_sens_summary(sobol=sobol,\n                        gsens=gsens,\n                        multiple_qoi=True,\n                        qois=t,\n                        results=results,\n                        x_label=\"t in s\",\n                        y_label=\"x(t)\")\n\n#\n# On Windows subprocesses will import (i.e. execute) the main module at start.\n# You need to insert an if __name__ == '__main__': guard in the main module to avoid\n# creating subprocesses recursively.\n#\n# if __name__ == '__main__':\n#     main()"
      ]
    }
  ],
  "metadata": {
    "kernelspec": {
      "display_name": "Python 3",
      "language": "python",
      "name": "python3"
    },
    "language_info": {
      "codemirror_mode": {
        "name": "ipython",
        "version": 3
      },
      "file_extension": ".py",
      "mimetype": "text/x-python",
      "name": "python",
      "nbconvert_exporter": "python",
      "pygments_lexer": "ipython3",
      "version": "3.9.12"
    }
  },
  "nbformat": 4,
  "nbformat_minor": 0
}