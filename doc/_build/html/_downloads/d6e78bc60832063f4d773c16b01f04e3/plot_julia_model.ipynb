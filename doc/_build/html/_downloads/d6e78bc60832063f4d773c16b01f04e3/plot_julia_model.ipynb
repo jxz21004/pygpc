{
  "cells": [
    {
      "cell_type": "code",
      "execution_count": null,
      "metadata": {
        "collapsed": false
      },
      "outputs": [],
      "source": [
        "%matplotlib inline"
      ]
    },
    {
      "cell_type": "markdown",
      "metadata": {},
      "source": [
        "\n# Analyzing julia models with pygpc\n\nYou can easily investigate your models written in julia with pygpc. In order to do so, you have to\ninstall the julia API for Python.\n"
      ]
    },
    {
      "cell_type": "code",
      "execution_count": null,
      "metadata": {
        "collapsed": false
      },
      "outputs": [],
      "source": [
        "import matplotlib.pyplot as plt\n\n_ = plt.figure(figsize=[15, 7])\n_ = plt.imshow(plt.imread(\"../images/python_julia_interface.png\"))\n_ = plt.axis('off')"
      ]
    },
    {
      "cell_type": "markdown",
      "metadata": {},
      "source": [
        "## Install julia API for Python\n\nTo start the julia within a Python session, you first must install the julia as a Python package and PyCall as a julia\nlibrary. If both are installed the julia package in python needs to be activated once by typing 'julia.install()'.\n\nBefore you install, verify your Python and julia configurations.\n\n- Check that your system has a supported version of Python and julia 0.7 or later.\n  To check that Python is installed on your system, run Python at the operating system prompt.\n- Add the folder that contains the Python interpreter to your path, if it is not already there.\n- Find the path to the MATLAB folder. Start MATLAB and type matlabroot in the command window. Copy the path returned\n  by matlabroot.\n\nIf julia is not already installed refer to <https://julialang.org> for the needed distribution.\nOnce both are installed PyCall needs to be installed in julia. Boot up julia and type the following:\n\n**Withing julia**\n\n.. code-block:: bash\n\n   import Pkg\n   Pkg.install(\"PyCall\")\n\nIn python you need to install and 'activate' the julia package. You can use pip for the julia package for example.\nThen open a python console an type the following (this should work if PyCall was installed beforehand).\n\n**Withing Python**\n\n.. code-block:: bash\n\n   import julia\n   julia.install()\n\n\nAfter you installed the julia Engine API for Python, you can set\n\n.. code-block:: python\n\n   options[\"julia_model\"] = True\n\nin your gPC run-file.\n\nYou can find an example model-file in :code:`.../templates/MyModel_julia.py` and the associated gPC\nrun-file in :code:`.../templates/MyGPC_julia.py`.\n\n## Setting up the julia model\nSetting up the model in julia is straight forward. You simply have to define your model as a julia function\nwithin an *.jl* file. In the following, you see an example model *.jl* file:\n\n.. code-block:: julia\n\n    # Three-dimensional test function of Ishigami.\n\n    function Ishigami(x1, x2, x3, a, b)\n    return sin.(x1) .- a .* sin.(x1).^2 .+ b .* x3.^4 .* sin.(x1)\n    end\n\nIf the julia model requires the usage of julia libraries a julia environment needs to be created and loaded during the\ncall from python. The environment can be created inside julia where libraries can be installed afterwards.\n\n.. code-block:: julia\n\n    import Pkg\n    Pkg.activate(\" directory of .jl file / folder name of environment \")\n    Pkg.install(\" library name \")\n\n## Accessing the model within pypgc\nIn order to call the julia function within pygpc, we have to set up a corresponding python model as shown below.\nDuring initialization we pass the function name *fname_julia*, which tells pygpc where to find the model *.jl*\nfunction. During computation, pygpc accesses the julia function.\n\nThe example shown below can be found in the templates folder of pygpc (`/templates/MyModel_julia.py\n<../../../../templates/MyModel_julia.py>`_)\n\n.. code-block:: python\n\n    import inspect\n    import numpy as np\n    from julia import Main\n    from pygpc.AbstractModel import AbstractModel\n\n\n    class MyModel_julia(AbstractModel):\n        \"\"\"\n        MyModel evaluates something by loading a julia file that contains a function. The parameters of the model\n         (constants and random parameters) are stored in the dictionary p. Their type is defined during the problem\n          definition.\n\n        Parameters\n        ----------\n        fname_julia : str\n            Filename of julia function\n        p[\"x1\"] : float or ndarray of float [n_grid]\n            Parameter 1\n        p[\"x2\"] : float or ndarray of float [n_grid]\n            Parameter 2\n        p[\"x3\"] : float or ndarray of float [n_grid]\n            Parameter 3\n        p[\"a\"] : float\n            shape parameter (a=7)\n        p[\"b\"] : float\n            shape parameter (b=0.1)\n\n        Returns\n        -------\n        y : ndarray of float [n_grid x n_out]\n            Results of the n_out quantities of interest the gPC is conducted for\n        additional_data : dict or list of dict [n_grid]\n            Additional data, will be saved under its keys in the .hdf5 file during gPC simulations.\n            If multiple grid-points are evaluated in one function call, return a dict for every grid-point in a list\n        \"\"\"\n\n        def __init__(self, fname_julia=None):\n            if fname_julia is not None:\n                self.fname_julia = fname_julia                            # filename of julia function\n            self.fname = inspect.getfile(inspect.currentframe())        # filename of python function\n\n        def validate(self):\n            pass\n\n        def simulate(self, process_id=None, matlab_engine=None):\n\n            x1 = self.p[\"x1\"]\n            x2 = self.p[\"x2\"]\n            x3 = self.p[\"x3\"]\n            a = self.p[\"a\"]\n            b = self.p[\"b\"]\n\n            # access .jl file\n            Main.fname_julia = self.fname_julia\n            Main.include(Main.fname_julia)\n\n            # call julia function\n        y = Main.Ishigami(x1, x2, x3, a, b)\n\n            if y.ndim == 0:\n                y = np.array([[y]])\n            elif y.ndim == 1:\n                y = y[:, np.newaxis]\n\n            return y\n\nTo enable libraries vie an existing environment folder as described above use 'Main.eval('import Pkg')' and\n'Main.eval('Pkg.activate(\" folder name of environment \")')' before including the *.jl* file. If the environment\nfolder is not in the same place as the *.jl* file the complete path is needed for this call as well.\n\n## Performance Tip\nYou can easily vectorize basic julia operations like (+, -, etc.) by appending a dot before them: .+, .-, etc as shown\nin the function above. This can even be extended to entire functions by appending the dot after it:\n*y = function_name(args).* . With that the function should be able to process arrays for the input parameters passed\nin the dictionary *p*. And if that is the case you can set the\nalgorithm option:\n\n"
      ]
    },
    {
      "cell_type": "code",
      "execution_count": null,
      "metadata": {
        "collapsed": false
      },
      "outputs": [],
      "source": [
        "options = dict()\n\n# ...\noptions[\"n_cpu\"] = 0\n# ..."
      ]
    },
    {
      "cell_type": "markdown",
      "metadata": {},
      "source": [
        "to enable parallel processing in pygpc. In this way, multiple sampling points are passed to the function\nand processed in parallel, which speeds up your gPC analysis. A more detailed description about the parallel\nprocessing capabilities of pygpc is given in this\n`example <plot_parallel_processing.html>`_.\n\n"
      ]
    }
  ],
  "metadata": {
    "kernelspec": {
      "display_name": "Python 3",
      "language": "python",
      "name": "python3"
    },
    "language_info": {
      "codemirror_mode": {
        "name": "ipython",
        "version": 3
      },
      "file_extension": ".py",
      "mimetype": "text/x-python",
      "name": "python",
      "nbconvert_exporter": "python",
      "pygments_lexer": "ipython3",
      "version": "3.7.3"
    }
  },
  "nbformat": 4,
  "nbformat_minor": 0
}