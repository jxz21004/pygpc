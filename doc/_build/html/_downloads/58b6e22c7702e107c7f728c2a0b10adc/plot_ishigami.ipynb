{
  "cells": [
    {
      "cell_type": "code",
      "execution_count": null,
      "metadata": {
        "collapsed": false
      },
      "outputs": [],
      "source": [
        "%matplotlib inline"
      ]
    },
    {
      "cell_type": "markdown",
      "metadata": {},
      "source": [
        "\n# Example: Ishigami Testfunction\n\n## About the model\nThis easy tutorial shows the application of pygpc to the Ishigami function which can be found in the testfunctions\nsection.\nThe model consists of three random variables that will be tested as input parameters (x1, x2, x3) and two shape\nparameters that will stay constant in this tutorial (a, b)\n\nThe model returns an output array with a value y for every sampling point.\n"
      ]
    },
    {
      "cell_type": "code",
      "execution_count": null,
      "metadata": {
        "collapsed": false
      },
      "outputs": [],
      "source": [
        "# Windows users have to encapsulate the code into a main function to avoid multiprocessing errors.\n# def main():\n\nimport os\nimport pygpc\nimport numpy as np\nfrom collections import OrderedDict\n\nfn_results = \"tmp/example_ishigami\"\n\nif os.path.exists(fn_results + \".hdf5\"):\n    os.remove(fn_results + \".hdf5\")\n\nif os.path.exists(fn_results + \"_val.hdf5\"):\n    os.remove(fn_results + \"_val.hdf5\")\n\nif os.path.exists(fn_results + \"_mc.hdf5\"):\n    os.remove(fn_results + \"_mc.hdf5\")\n\n# define model\nmodel = pygpc.testfunctions.Ishigami()\n\n# define problem\nparameters = OrderedDict()\nparameters[\"x1\"] = pygpc.Beta(pdf_shape=[1, 1], pdf_limits=[-np.pi, np.pi])\nparameters[\"x2\"] = pygpc.Beta(pdf_shape=[1, 1], pdf_limits=[-np.pi, np.pi])\nparameters[\"x3\"] = pygpc.Beta(pdf_shape=[1, 1], pdf_limits=[-np.pi, np.pi])\nparameters[\"a\"] = 7.\nparameters[\"b\"] = 0.1\n\nparameters_random = OrderedDict()\nparameters_random[\"x1\"] = pygpc.Beta(pdf_shape=[1, 1], pdf_limits=[-np.pi, np.pi])\nparameters_random[\"x2\"] = pygpc.Beta(pdf_shape=[1, 1], pdf_limits=[-np.pi, np.pi])\nparameters_random[\"x3\"] = pygpc.Beta(pdf_shape=[1, 1], pdf_limits=[-np.pi, np.pi])\n\nproblem = pygpc.Problem(model, parameters)\n\n# gPC options\noptions = dict()\noptions[\"order\"] = [15] * problem.dim\noptions[\"order_max\"] = 15\noptions[\"order_start\"] = 15\noptions[\"method\"] = 'reg'\noptions[\"solver\"] = \"Moore-Penrose\"\noptions[\"interaction_order\"] = 2\noptions[\"order_max_norm\"] = 1.0\noptions[\"n_cpu\"] = 0\noptions[\"eps\"] = 0.01\noptions[\"fn_results\"] = fn_results\noptions[\"basis_increment_strategy\"] = None\noptions[\"plot_basis\"] = False\noptions[\"n_grid\"] = 1300\noptions[\"save_session_format\"] = \".pkl\"\noptions[\"matrix_ratio\"] = 2\noptions[\"grid\"] = pygpc.Random\noptions[\"grid_options\"] = {\"seed\": 1}\n\n# define algorithm\nalgorithm = pygpc.Static(problem=problem, options=options, grid=None)\n\n# Initialize gPC Session\nsession = pygpc.Session(algorithm=algorithm)\n\n# run gPC session\nsession, coeffs, results = session.run()"
      ]
    },
    {
      "cell_type": "markdown",
      "metadata": {},
      "source": [
        "## Postprocessing\nPostprocess gPC and add results to .hdf5 file\n\n"
      ]
    },
    {
      "cell_type": "code",
      "execution_count": null,
      "metadata": {
        "collapsed": false
      },
      "outputs": [],
      "source": [
        "pygpc.get_sensitivities_hdf5(fn_gpc=session.fn_results,\n                             output_idx=None,\n                             calc_sobol=True,\n                             calc_global_sens=True,\n                             calc_pdf=True,\n                             n_samples=int(1e4))"
      ]
    },
    {
      "cell_type": "markdown",
      "metadata": {},
      "source": [
        "## Validation\nValidate gPC vs original model function\n\n"
      ]
    },
    {
      "cell_type": "code",
      "execution_count": null,
      "metadata": {
        "collapsed": false
      },
      "outputs": [],
      "source": [
        "pygpc.validate_gpc_plot(session=session,\n                        coeffs=coeffs,\n                        random_vars=[\"x1\", \"x2\"],\n                        n_grid=[51, 51],\n                        output_idx=0,\n                        fn_out=session.fn_results + '_val',\n                        n_cpu=session.n_cpu)"
      ]
    },
    {
      "cell_type": "markdown",
      "metadata": {},
      "source": [
        "Validate gPC vs original model function (Monte Carlo)\n\n"
      ]
    },
    {
      "cell_type": "code",
      "execution_count": null,
      "metadata": {
        "collapsed": false
      },
      "outputs": [],
      "source": [
        "nrmsd = pygpc.validate_gpc_mc(session=session,\n                              coeffs=coeffs,\n                              n_samples=int(1e4),\n                              output_idx=0,\n                              n_cpu=session.n_cpu,\n                              fn_out=session.fn_results + '_mc')"
      ]
    },
    {
      "cell_type": "markdown",
      "metadata": {},
      "source": [
        "## Sensitivity analysis\n\n"
      ]
    },
    {
      "cell_type": "code",
      "execution_count": null,
      "metadata": {
        "collapsed": false
      },
      "outputs": [],
      "source": [
        "sobol, gsens = pygpc.get_sens_summary(fn_results, parameters_random)\npygpc.plot_sens_summary(sobol, gsens)\n\n#\n# On Windows subprocesses will import (i.e. execute) the main module at start.\n# You need to insert an if __name__ == '__main__': guard in the main module to avoid\n# creating subprocesses recursively.\n#\n# if __name__ == '__main__':\n#     main()"
      ]
    }
  ],
  "metadata": {
    "kernelspec": {
      "display_name": "Python 3",
      "language": "python",
      "name": "python3"
    },
    "language_info": {
      "codemirror_mode": {
        "name": "ipython",
        "version": 3
      },
      "file_extension": ".py",
      "mimetype": "text/x-python",
      "name": "python",
      "nbconvert_exporter": "python",
      "pygments_lexer": "ipython3",
      "version": "3.9.12"
    }
  },
  "nbformat": 4,
  "nbformat_minor": 0
}