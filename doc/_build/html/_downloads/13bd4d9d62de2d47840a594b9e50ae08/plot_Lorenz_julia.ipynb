{
  "cells": [
    {
      "cell_type": "code",
      "execution_count": null,
      "metadata": {
        "collapsed": false
      },
      "outputs": [],
      "source": [
        "%matplotlib inline"
      ]
    },
    {
      "cell_type": "markdown",
      "metadata": {},
      "source": [
        "\n# Example: Lorenz system of differential equations (julia)\n\n## About the model\nThis tutorial treats the same problem as in `Example: Lorenz system of differential equations`.\nIn this tutorial, we show how to analyze julia functions with pygpc. The governing equations of the Lorenz system are:\n\n\\begin{align}\\frac{\\partial x}{\\partial t} &= \\sigma (y - x)\n\n    \\frac{\\partial y}{\\partial t} &= x (\\rho - z) - y\n\n    \\frac{\\partial z}{\\partial t} &= xy - \\beta z\\end{align}\n\nThey are implemented in a julia .jl file that uses DifferentialEquations.jl as a dependency.\nThe model .jl file contains the following:\n\n```julia\nusing DifferentialEquations\n\nfunction lorenz!(du,u,p,t)\n    \u03c3, \u03b2, \u03c1 = p\n    du[1] = \u03c3*(u[2]-u[1])\n    du[2] = u[1]*(\u03c1-u[3]) - u[2]\n    du[3] = u[1]*u[2] - \u03b2*u[3]\n   end\n\nfunction Julia_Lorenz(p, u0, t_vals)\n   tspan = (first(t_vals), last(t_vals))\n   prob = ODEProblem(lorenz!,u0,tspan, p)\n   sol = solve(prob)\n   return sol(t_vals)\nend\n```\nIn order to analyze this model with pygpc, we have to set up a pygpc :class:`Model <pygpc.AbstractModel>`, which\ncalls the aforementioned julia model file. In order to call the\n.jl file with pygpc, the :class:`Model <pygpc.AbstractModel>` has to be set up like in the following example.\nThis code is implemented in :class:`Lorenz system (julia) <pygpc.testfunctions.testfunctions.Lorenz_System_julia>`:\n\n```python\nclass Lorenz_System_julia(AbstractModel):\n\n    # during initialization, the filename of the .jl model file is passed for further use\n    def __init__(self, fname_julia=None):\n        if fname_julia is not None:\n            self.fname_julia = fname_julia\n        self.fname = inspect.getfile(inspect.currentframe())\n\n    def validate(self):\n        pass\n\n    def simulate(self, process_id=None, matlab_engine=None):\n\n        from julia import Main\n\n        # in this example, the package DifferentialEquations.jl needs to be installed in the\n        # julia environment for this example the folder \"julia_env\" is located in the same\n        # folder as the julia model file\n        fname_folder = os.path.split(self.fname_julia)[0]\n        Main.fname_environment = os.path.join(fname_folder, 'julia_env')\n        Main.eval('import Pkg; Pkg.activate(fname_environment)')\n\n        # access .jl file\n        Main.fname_julia = self.fname_julia\n        Main.include(Main.fname_julia)\n\n        # create time and solution arrays\n        n_grid = self.p[\"sigma\"].shape[0]\n        t_span = (0.0, self.p[\"t_end\"][0])\n        t = np.arange(0.0, self.p[\"t_end\"][0], self.p[\"step_size\"][0])\n        sols = np.zeros((n_grid, t.shape[0]))\n\n        # loop over parameter combinations and integrate differential equations\n        for i in range(n_grid):\n            # read parameters from self.p\n            p = [self.p[\"sigma\"][i], self.p[\"beta\"][i], self.p[\"rho\"][i]]\n\n            # assign initial values (the same for all parameter combinations but pygpc duplicates\n            # all \"static\" (deterministic) parameters for each parameter set)\n            y0 = [self.p[\"y1_0\"][i], self.p[\"y2_0\"][i], self.p[\"y3_0\"][i]]\n\n            # Call julia and save x-coordinate for this particular example (index 0)\n            sols[i, :] = Main.Julia_Lorenz(p, y0, t)[0]\n\n        x_out = sols\n\n        return x_out\n```\n```python\nimport os\nimport pygpc\nimport numpy as np\nfrom collections import OrderedDict\n\n# Windows users have to encapsulate the code into a main function to avoid multiprocessing errors.\n# def main():\nfn_results = \"tmp/example_lorenz_julia\"\n\n# define model\nmodel = pygpc.testfunctions.Lorenz_System_julia(\n    fname_julia=os.path.join(pygpc.__path__[0], \"testfunctions\", \"Lorenz_System.jl\"))\n\n# define problem\nparameters = OrderedDict()\nparameters[\"sigma\"] = pygpc.Beta(pdf_shape=[1, 1], pdf_limits=[10-1, 10+1])\nparameters[\"beta\"] = pygpc.Beta(pdf_shape=[1, 1], pdf_limits=[28-10, 28+10])\nparameters[\"rho\"] = pygpc.Beta(pdf_shape=[1, 1], pdf_limits=[(8/3)-1, (8/3)+1])\nparameters[\"x_0\"] = 1.0\nparameters[\"y_0\"] = 1.0\nparameters[\"z_0\"] = 1.0\nparameters[\"t_end\"] = 5.0\nparameters[\"step_size\"] = 0.01\n\nproblem = pygpc.Problem(model, parameters)\n\n# gPC options\noptions = dict()\noptions[\"order_start\"] = 6\noptions[\"order_end\"] = 20\noptions[\"solver\"] = \"Moore-Penrose\"\noptions[\"interaction_order\"] = 2\noptions[\"order_max_norm\"] = 0.7\noptions[\"n_cpu\"] = 0\noptions[\"error_type\"] = 'nrmsd'\noptions[\"error_norm\"] = 'absolute'\noptions[\"n_samples_validation\"] = 1000\noptions[\"matrix_ratio\"] = 5\noptions[\"fn_results\"] = fn_results\noptions[\"eps\"] = 0.01\noptions[\"grid_options\"] = {\"seed\": 1}\n\n# define algorithm\nalgorithm = pygpc.RegAdaptive(problem=problem, options=options)\n\n# Initialize gPC Session\nsession = pygpc.Session(algorithm=algorithm)\n\n# run gPC session\nsession, coeffs, results = session.run()\n\n# Post-process gPC and add results to .hdf5 file\npygpc.get_sensitivities_hdf5(fn_gpc=session.fn_results,\n                             output_idx=None,\n                             calc_sobol=True,\n                             calc_global_sens=True,\n                             calc_pdf=False,\n                             n_samples=int(1e4))\n\n# get sobol indices\nsobol, gsens = pygpc.get_sens_summary(fn_gpc=fn_results,\n                                      parameters_random=session.parameters_random,\n                                      fn_out=None)\n\n# plot sobol indices over time and mean and standard deviation of x(t)\nt = np.arange(0.0, parameters[\"t_end\"], parameters[\"step_size\"])\npygpc.plot_sens_summary(sobol=sobol,\n                        gsens=gsens,\n                        multiple_qoi=True,\n                        qois=t,\n                        results=results,\n                        x_label=\"t in s\",\n                        y_label=\"x(t)\")\n```\n"
      ]
    },
    {
      "cell_type": "code",
      "execution_count": null,
      "metadata": {
        "collapsed": false
      },
      "outputs": [],
      "source": [
        "# On Windows subprocesses will import (i.e. execute) the main module at start.\n# You need to insert an if __name__ == '__main__': guard in the main module to avoid\n# creating subprocesses recursively.\n#\n# if __name__ == '__main__':\n#     main()"
      ]
    }
  ],
  "metadata": {
    "kernelspec": {
      "display_name": "Python 3",
      "language": "python",
      "name": "python3"
    },
    "language_info": {
      "codemirror_mode": {
        "name": "ipython",
        "version": 3
      },
      "file_extension": ".py",
      "mimetype": "text/x-python",
      "name": "python",
      "nbconvert_exporter": "python",
      "pygments_lexer": "ipython3",
      "version": "3.9.12"
    }
  },
  "nbformat": 4,
  "nbformat_minor": 0
}