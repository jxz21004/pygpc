{
  "cells": [
    {
      "cell_type": "code",
      "execution_count": null,
      "metadata": {
        "collapsed": false
      },
      "outputs": [],
      "source": [
        "%matplotlib inline"
      ]
    },
    {
      "cell_type": "markdown",
      "metadata": {},
      "source": [
        "\n# Polynomial basis functions\n"
      ]
    },
    {
      "cell_type": "code",
      "execution_count": null,
      "metadata": {
        "collapsed": false
      },
      "outputs": [],
      "source": [
        "# Windows users have to encapsulate the code into a main function to avoid multiprocessing errors.\n# def main():"
      ]
    },
    {
      "cell_type": "markdown",
      "metadata": {},
      "source": [
        "## Test problem\n\n"
      ]
    },
    {
      "cell_type": "code",
      "execution_count": null,
      "metadata": {
        "collapsed": false
      },
      "outputs": [],
      "source": [
        "import pygpc\nimport time\nimport numpy as np\nimport matplotlib.pyplot as plt\nfrom IPython import display\nfrom collections import OrderedDict\n\n# define model\nmodel = pygpc.testfunctions.Ishigami()\n\n# define parameters\nparameters = OrderedDict()\nparameters[\"x1\"] = pygpc.Beta(pdf_shape=[1, 1], pdf_limits=[-np.pi, np.pi])\nparameters[\"x2\"] = pygpc.Beta(pdf_shape=[1, 1], pdf_limits=[-np.pi, np.pi])\nparameters[\"x3\"] = pygpc.Beta(pdf_shape=[1, 1], pdf_limits=[-np.pi, np.pi])\n# test\n# define problem\nproblem = pygpc.Problem(model, parameters)"
      ]
    },
    {
      "cell_type": "markdown",
      "metadata": {},
      "source": [
        "### Total-order gPC\nIn general, the set $\\mathcal{A}(\\mathbf{p})$ of multi-indices can be freely chosen according\nto the problem under investigation. In the following figures, the blue boxes correspond to polynomials\nincluded in the gPC expansion. The coordinates of the boxes correspond to the multi-indices\n$\\mathbf{\\alpha}$, which correspond to the polynomial degrees of the individual basis functions\nforming the joint basis functions. For a total-order gPC, the number of basis functions, and hence,\ncoefficients to determine, increases exponentially in this case $N_c=(P+1)^d$\nsphinx_gallery_thumbnail_number = 2\n\n"
      ]
    },
    {
      "cell_type": "code",
      "execution_count": null,
      "metadata": {
        "collapsed": false
      },
      "outputs": [],
      "source": [
        "basis = pygpc.Basis()\nbasis.init_basis_sgpc(problem=problem,\n                      order=[5, 5, 5],\n                      order_max=15,\n                      order_max_norm=1,\n                      interaction_order=3)\n\nbasis.plot_basis(dims=[0, 1, 2])"
      ]
    },
    {
      "cell_type": "markdown",
      "metadata": {},
      "source": [
        "### Maximum-order gPC\nIn practical applications, the more economical maximum total order gPC is preferably used.\nIn this case, the set $\\mathcal{A}(p_g)$ includes all polynomials whose total order\ndoes not exceed a predefined value $P_g$.\n\n\\begin{align}\\mathcal{A}(p_g) = \\left\\{ \\mathbf{\\alpha} \\, : \\, \\sum_{i=1}^{d} \\alpha_i \\leq p_g \\right\\} =\n    \\left\\{ \\mathbf{\\alpha} \\, : \\lVert \\mathbf{\\alpha} \\rVert_1  \\leq p_g \\right\\}\\end{align}\n\nThis results in a reduced set of basis functions and is termed maximum order gPC. The number of multi-indices,\nand hence, the dimension of the space spanned by the polynomials, is:\n\n\\begin{align}N_c = \\binom{d+p_g}{d} = \\frac{(d+p_g)!}{d!p_g!}.\\end{align}\n\n"
      ]
    },
    {
      "cell_type": "code",
      "execution_count": null,
      "metadata": {
        "collapsed": false
      },
      "outputs": [],
      "source": [
        "basis = pygpc.Basis()\nbasis.init_basis_sgpc(problem=problem,\n                      order=[5, 5, 5],\n                      order_max=5,\n                      order_max_norm=1,\n                      interaction_order=3)\n\nbasis.plot_basis(dims=[0, 1, 2])"
      ]
    },
    {
      "cell_type": "markdown",
      "metadata": {},
      "source": [
        "## Reduced-basis gPC\nThe concept of the *maximum-order* gPC is extended by introducing three new parameters:\n- the *univariate* expansion order $\\mathbf{p}_u = (p_{u,1},...,p_{u,d})$ with\n$p_{u,i}>p_g \\forall i={1,...,d}$\n- the *interaction order* $p_i$, limits the number of interacting parameters and it reflects the\ndimensionality, i.e. the number of random variables (independent variables) appearing in the\nbasis function $\\Psi_{\\mathbf{\\alpha}}({\\xi})$: $\\lVert\\mathbf{\\alpha}\\rVert_0 \\leq p_i$\n- the *maximum order norm* $q$ additionally truncates the included basis functions\nin terms of the maximum order $p_g$ such that\n$\\lVert \\mathbf{\\alpha} \\rVert_{q}=\\sqrt[q]{\\sum_{i=1}^d \\alpha_i^{q}} \\leq p_g$\n\nThose parameters define the set\n$\\mathcal{A}(\\mathbf{p})$ with $\\mathbf{p} = (\\mathbf{p}_u,p_i,p_g, q)$\n\nThe reduced set $\\mathcal{A}(\\mathbf{p})$ is then constructed by the following rule:\n\n\\begin{align}\\mathcal{A}(\\mathbf{p}) := \\left\\{ \\mathbf{\\alpha} \\in \\mathbb{N}_0^d\\, :\n    (\\lVert \\mathbf{\\alpha} \\rVert_q  \\leq p_g \\wedge \\lVert\\mathbf{\\alpha}\\rVert_0 \\leq p_i)\n    \\vee (\\lVert \\mathbf{\\alpha} \\rVert_1  \\leq p_{u,i} \\wedge \\lVert\\mathbf{\\alpha}\\rVert_0 = 1,\n    \\forall i \\in \\{1,...,d\\}) \\right\\}\\end{align}\n\nIt includes all elements from a total order gPC with the restriction of the interaction order\n$P_i$. Additionally, univariate polynomials of higher orders specified in $\\mathbf{P}_u$\nmay be added to the set of basis functions.\n\n"
      ]
    },
    {
      "cell_type": "code",
      "execution_count": null,
      "metadata": {
        "collapsed": false
      },
      "outputs": [],
      "source": [
        "# reduced basis gPC\nbasis = pygpc.Basis()\nbasis.init_basis_sgpc(problem=problem,\n                      order=[7, 9, 3],\n                      order_max=7,\n                      order_max_norm=0.8,\n                      interaction_order=3)\n\nbasis.plot_basis(dims=[0, 1, 2])"
      ]
    },
    {
      "cell_type": "markdown",
      "metadata": {},
      "source": [
        "### Isotropic adaptive basis\nThe basic problem in gPC is to find a suitable basis while reducing the number of necessary forward\nsimulations to determine the gPC coefficients! To do this two basis increment strategies exist. This first is called\nisotropic and is the default option for the gpc. It determines which multi-indices are picked to be added to the\nexisting set of basis functions in terms of their order and dimension. The boundary conditions for this expansion\nare given by the maximum order and the interaction order in the gpc options. The maximum order sets a limit to how\nhigh any index may grow and the interaction order limits the maximal dimension in which multi-indices can be chosen.\nIn action isotropic basis incrementation chooses the new basis multi-indices equally in each direction decreasing the\ndimension in every step. If the interaction order is set as 3 this means that the first indices to be increased is\nalong the axes (shown in orange in the figure below), then the indices that span the area between the axes are\nchosen and finally the indices that create the volume contained by the surrounding area are added. After that the\naxes are extended again and the cycle is repeated until the error is sufficient. For an interaction order of higher\nthan three the expansion continues until the final dimension is reached.\n\n<img src=\"file://examples/images/Fig_adaptive_basis_isotropic.png\" width=\"1300\" align=\"center\">\n\n"
      ]
    },
    {
      "cell_type": "code",
      "execution_count": null,
      "metadata": {
        "collapsed": false
      },
      "outputs": [],
      "source": [
        "# define model\nmodel = pygpc.testfunctions.Ishigami()\n\n# define problem\nparameters = OrderedDict()\nparameters[\"x1\"] = pygpc.Beta(pdf_shape=[1, 1], pdf_limits=[-np.pi, np.pi])\nparameters[\"x2\"] = pygpc.Beta(pdf_shape=[1, 1], pdf_limits=[-np.pi, np.pi])\nparameters[\"x3\"] = pygpc.Beta(pdf_shape=[1, 1], pdf_limits=[-np.pi, np.pi])\nparameters[\"a\"] = 7.\nparameters[\"b\"] = 0.1\n\nproblem = pygpc.Problem(model, parameters)\n\n# gPC options\noptions = dict()\noptions[\"order_start\"] = 10\noptions[\"order_end\"] = 20\noptions[\"solver\"] = \"Moore-Penrose\"\noptions[\"interaction_order\"] = 2\noptions[\"order_max_norm\"] = 1.0\noptions[\"n_cpu\"] = 0\noptions[\"adaptive_sampling\"] = False\noptions[\"eps\"] = 0.05\noptions[\"fn_results\"] = None\noptions[\"basis_increment_strategy\"] = None\noptions[\"matrix_ratio\"] = 4\noptions[\"grid\"] = pygpc.Random\noptions[\"grid_options\"] = {\"seed\": 1}\n\n# define algorithm\nalgorithm = pygpc.RegAdaptive(problem=problem, options=options)\n\n# Initialize gPC Session\nsession = pygpc.Session(algorithm=algorithm)\n\n# run gPC session\nsession, coeffs, results = session.run()"
      ]
    },
    {
      "cell_type": "markdown",
      "metadata": {},
      "source": [
        "### Anisotropic adaptive basis\nIn addition to the adaptive selection from the previous method, the specification options[\"basis_increment_strategy\"]\n= anisotropic can be used for the gpc object to use an algorithm by Gerstner and Griebel [1] for an anisotropic basis\nincrement strategy. The motivation behind it lies in reducing the variance of the output data of the gpc.\n\n\\begin{align}Var(\\mathbf{q}(\\mathbf{\\xi}) = \\sum_{k=1}^{P}(\\mathbf{u}_{\\mathbf{\\alpha}_k} || \\mathbf{\\Phi}_{\\mathbf{\\alpha}_k}\n    ||)^2\\end{align}\n\nwhere $\\mathbf{q}(\\mathbf{\\xi})$ is the output data dependent on $\\mathbf{\\xi}$ which are the random\nvariables, $P$ is the order of the gpc and $\\mathbf{u}_{\\mathbf{\\alpha}_k}$ are the coefficients of the\nbasis function $\\mathbf{\\Phi}_{\\mathbf{\\alpha}_k}$. The variance depends directly on the coefficients\n$\\mathbf{u}_{\\mathbf{\\alpha}_k}$ and can be reduced by using them as a optimization criterion in the mentioned\nalgorithm. A normalized version $\\hat{\\mathbf{u}}_{\\mathbf{\\alpha}_k}$ directly corresponds to the variance and\nis given by\n\n\\begin{align}\\hat{\\mathbf{u}}_{\\mathbf{\\alpha}_k} = (\\mathbf{u}_{\\mathbf{\\alpha}_k} || \\mathbf{\\Phi}_{\\mathbf{\\alpha}_k}\n    ||)^2\\end{align}\n\nIn pygpc this quantity is calculated as the maximum L2-norm of the current coefficients and the relevant index\n:math:'k' is  extracted from the set of multi-indices. The anisotropic adaptive basis algorithm selects the\nmulti-index :math:'k' with the\nhighest norm as the starting point for a basis expansion. The goal during the expansion is to find suitable candidate\nindices that meet the following two criteria:\n(1) The index is not completely enclosed by other indices with higher basis components since this would mean that it\nis already included;\n(2) The index needs to have predecessors. This means that in all directions of decreasing order connecting\nmulti-indices exist already and the new index is not 'floating'. In the figure below this is shown again for the\nthree-dimensional case. First the outer multi-indices that have connected faces with other included multi-indices\nwhich 'have predecessors' are selected (marked green). Then\nthe basis function coefficients are computed for these candidates and the multi-index with the highest coefficient\nis picked for the expansion (marked red). The index is then expanded in every dimension around it where the resulting\nindex is not already included in the multi-index-set yet (marked orange).\n\n<img src=\"file://examples/images/Fig_adaptive_basis_anisotropic.png\" width=\"1300\" align=\"center\">\n\n\n"
      ]
    },
    {
      "cell_type": "code",
      "execution_count": null,
      "metadata": {
        "collapsed": false
      },
      "outputs": [],
      "source": [
        "# define model\nmodel = pygpc.testfunctions.Ishigami()\n\n# define problem\nparameters = OrderedDict()\nparameters[\"x1\"] = pygpc.Beta(pdf_shape=[1, 1], pdf_limits=[-np.pi, np.pi])\nparameters[\"x2\"] = pygpc.Beta(pdf_shape=[1, 1], pdf_limits=[-np.pi, np.pi])\nparameters[\"x3\"] = pygpc.Beta(pdf_shape=[1, 1], pdf_limits=[-np.pi, np.pi])\nparameters[\"a\"] = 7.\nparameters[\"b\"] = 0.1\n\nproblem = pygpc.Problem(model, parameters)\n\n# gPC options\noptions = dict()\noptions[\"order_start\"] = 10\noptions[\"order_end\"] = 20\noptions[\"solver\"] = \"Moore-Penrose\"\noptions[\"interaction_order\"] = 2\noptions[\"order_max_norm\"] = 1.0\noptions[\"n_cpu\"] = 0\noptions[\"adaptive_sampling\"] = False\noptions[\"eps\"] = 0.05\noptions[\"fn_results\"] = None\noptions[\"basis_increment_strategy\"] = \"anisotropic\"\noptions[\"matrix_ratio\"] = 4\noptions[\"grid\"] = pygpc.Random\noptions[\"grid_options\"] = {\"seed\": 1}\n\n# define algorithm\nalgorithm = pygpc.RegAdaptive(problem=problem, options=options)\n\n# Initialize gPC Session\nsession = pygpc.Session(algorithm=algorithm)\n\n# run gPC session\nsession, coeffs, results = session.run()\n\n#\n#\n# On Windows subprocesses will import (i.e. execute) the main module at start.\n# You need to insert an if __name__ == '__main__': guard in the main module to avoid\n# creating subprocesses recursively.\n#\n# if __name__ == '__main__':\n#     main()"
      ]
    }
  ],
  "metadata": {
    "kernelspec": {
      "display_name": "Python 3",
      "language": "python",
      "name": "python3"
    },
    "language_info": {
      "codemirror_mode": {
        "name": "ipython",
        "version": 3
      },
      "file_extension": ".py",
      "mimetype": "text/x-python",
      "name": "python",
      "nbconvert_exporter": "python",
      "pygments_lexer": "ipython3",
      "version": "3.9.12"
    }
  },
  "nbformat": 4,
  "nbformat_minor": 0
}