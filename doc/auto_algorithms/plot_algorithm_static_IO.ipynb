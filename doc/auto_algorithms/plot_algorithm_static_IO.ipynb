{
  "cells": [
    {
      "cell_type": "code",
      "execution_count": null,
      "metadata": {
        "collapsed": false
      },
      "outputs": [],
      "source": [
        "%matplotlib inline"
      ]
    },
    {
      "cell_type": "markdown",
      "metadata": {},
      "source": [
        "\n",
        "# Algorithm: Static_IO\n"
      ]
    },
    {
      "cell_type": "code",
      "execution_count": null,
      "metadata": {
        "collapsed": false
      },
      "outputs": [],
      "source": [
        "# Windows users have to encapsulate the code into a main function to avoid multiprocessing errors.\n",
        "# def main():\n",
        "import pygpc\n",
        "import numpy as np\n",
        "import matplotlib\n",
        "# matplotlib.use(\"Qt5Agg\")\n",
        "\n",
        "from collections import OrderedDict\n",
        "\n",
        "fn_results = 'tmp/static_IO'   # filename of output\n",
        "save_session_format = \".pkl\"    # file format of saved gpc session \".hdf5\" (slow) or \".pkl\" (fast)\n",
        "np.random.seed(1)"
      ]
    },
    {
      "cell_type": "markdown",
      "metadata": {},
      "source": [
        "## Setup input and output data\n",
        "\n"
      ]
    },
    {
      "cell_type": "code",
      "execution_count": null,
      "metadata": {
        "collapsed": false
      },
      "outputs": [],
      "source": [
        "# We artificially generate some coordinates for the input data the user has to provide where the model was sampled\n",
        "n_grid = 100\n",
        "x1 = np.random.rand(n_grid) * 0.8 + 1.2\n",
        "x2 = 1.25\n",
        "x3 = np.random.rand(n_grid) * 0.6\n",
        "\n",
        "# define the properties of the random variables\n",
        "parameters = OrderedDict()\n",
        "parameters[\"x1\"] = pygpc.Beta(pdf_shape=[1, 1], pdf_limits=[1.2, 2])\n",
        "parameters[\"x3\"] = pygpc.Beta(pdf_shape=[1, 1], pdf_limits=[0, 0.6])\n",
        "\n",
        "# generate a grid object from the input data\n",
        "grid = pygpc.RandomGrid(parameters_random=parameters, coords=np.vstack((x1,x3)).T)\n",
        "\n",
        "# get output data (here: Peaks function)\n",
        "results = (3.0 * (1 - x1) ** 2. * np.exp(-(x1 ** 2) - (x3 + 1) ** 2)\n",
        "           - 10.0 * (x1 / 5.0 - x1 ** 3 - x3 ** 5)\n",
        "           * np.exp(-x1 ** 2 - x3 ** 2) - 1.0 / 3\n",
        "           * np.exp(-(x1 + 1) ** 2 - x3 ** 2)) +  x2\n",
        "results = results[:, np.newaxis]"
      ]
    },
    {
      "cell_type": "markdown",
      "metadata": {},
      "source": [
        "## Setting up the algorithm\n",
        "\n"
      ]
    },
    {
      "cell_type": "code",
      "execution_count": null,
      "metadata": {
        "collapsed": false
      },
      "outputs": [],
      "source": [
        "# gPC options\n",
        "options = dict()\n",
        "options[\"method\"] = \"reg\"\n",
        "options[\"solver\"] = \"LarsLasso\"\n",
        "options[\"settings\"] = None\n",
        "options[\"order\"] = [9, 9]\n",
        "options[\"order_max\"] = 9\n",
        "options[\"interaction_order\"] = 2\n",
        "options[\"error_type\"] = \"loocv\"\n",
        "options[\"n_samples_validation\"] = None\n",
        "options[\"fn_results\"] = fn_results\n",
        "options[\"save_session_format\"] = save_session_format\n",
        "options[\"backend\"] = \"omp\"\n",
        "options[\"verbose\"] = True\n",
        "\n",
        "# define algorithm\n",
        "algorithm = pygpc.Static_IO(parameters=parameters, options=options, grid=grid, results=results)"
      ]
    },
    {
      "cell_type": "markdown",
      "metadata": {},
      "source": [
        "## Running the gpc\n",
        "\n"
      ]
    },
    {
      "cell_type": "code",
      "execution_count": null,
      "metadata": {
        "collapsed": false
      },
      "outputs": [],
      "source": [
        "# initialize gPC Session\n",
        "session = pygpc.Session(algorithm=algorithm)\n",
        "\n",
        "# run gPC algorithm\n",
        "session, coeffs, results = session.run()"
      ]
    },
    {
      "cell_type": "markdown",
      "metadata": {},
      "source": [
        "## Postprocessing\n",
        "\n"
      ]
    },
    {
      "cell_type": "code",
      "execution_count": null,
      "metadata": {
        "collapsed": false
      },
      "outputs": [],
      "source": [
        "# read session\n",
        "session = pygpc.read_session(fname=session.fn_session, folder=session.fn_session_folder)\n",
        "\n",
        "# Post-process gPC\n",
        "pygpc.get_sensitivities_hdf5(fn_gpc=options[\"fn_results\"],\n",
        "                             output_idx=None,\n",
        "                             calc_sobol=True,\n",
        "                             calc_global_sens=True,\n",
        "                             calc_pdf=True,\n",
        "                             algorithm=\"standard\")\n",
        "\n",
        "# plot gPC approximation and IO data\n",
        "pygpc.plot_gpc(session=session,\n",
        "               coeffs=coeffs,\n",
        "               random_vars=[\"x1\", \"x3\"],\n",
        "               output_idx= 0,\n",
        "               n_grid=[100, 100],\n",
        "               coords=grid.coords,\n",
        "               results=results,\n",
        "               fn_out=None)\n",
        "\n",
        "# On Windows subprocesses will import (i.e. execute) the main module at start.\n",
        "# You need to insert an if __name__ == '__main__': guard in the main module to avoid\n",
        "# creating subprocesses recursively.\n",
        "#\n",
        "# if __name__ == '__main__':\n",
        "#     main()"
      ]
    }
  ],
  "metadata": {
    "kernelspec": {
      "display_name": "Python 3",
      "language": "python",
      "name": "python3"
    },
    "language_info": {
      "codemirror_mode": {
        "name": "ipython",
        "version": 3
      },
      "file_extension": ".py",
      "mimetype": "text/x-python",
      "name": "python",
      "nbconvert_exporter": "python",
      "pygments_lexer": "ipython3",
      "version": "3.8.5"
    }
  },
  "nbformat": 4,
  "nbformat_minor": 0
}
