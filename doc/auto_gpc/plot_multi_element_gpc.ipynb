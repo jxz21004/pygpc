{
  "cells": [
    {
      "cell_type": "code",
      "execution_count": null,
      "metadata": {
        "collapsed": false
      },
      "outputs": [],
      "source": [
        "%matplotlib inline"
      ]
    },
    {
      "cell_type": "markdown",
      "metadata": {},
      "source": [
        "\n# Modelling discontinuous model functions\n\nIn some cases, the output quantities of a model are discontinuous in the investigated parameter ranges.\nModelling such systems with global continuous basis polynomials of a classical gPC would require a very high\npolynomial order and consequently a large number of sampling points. In addition, discontinuities can\nonly be modeled to a limited extent due to the Gibbs phenomenon (overshooting).\nThe gPC approach has been extended by a multi-element approach (ME-gPC) so that this class of problems\ncan also be analyzed efficiently using gPC. The approach consists of dividing the global parameter space into\nseveral regions in which the model function is continuous. Each of these regions is described with an\nindependent gPC approach as it shown in the following example. \n\n<img src=\"file://examples/images/Fig_multi_element_gpc.png\" width=\"1400\" align=\"center\">\n\nThe core task of the method is to identify the discontinuity boundary\nbetween the regions. For this purpose, modern image processing and machine learning techniques are used.\nIn a first step, a cluster analysis is performed based on the feature values at the sampling points and a\nclass is assigned to each sample (unsupervised learning) depending on its function value.\nIn a second step, the identified groups are\nused with a classification algorithm to identify the discontinuity boundary (supervised learning).\nThis allowed, for example, uncertainty and sensitivity analysis of Jansen-Rit type neural mass models\nand created the basis for the analysis of this class of problems (Weise et al. 2020).\n\nThe post-processing and sensitivity analysis methods recognize if a multi-element gPC approach is used\nand adapts the calculation of the sensitivity coefficients according to the different domains using a sampling\nbased approach instead of determining the sensitivity coefficients directly from the gPC coefficients.\n\nIn the following, an example of a discontinuous test problem is provided:\n"
      ]
    },
    {
      "cell_type": "code",
      "execution_count": null,
      "metadata": {
        "collapsed": false
      },
      "outputs": [],
      "source": [
        "# Windows users have to encapsulate the code into a main function to avoid multiprocessing errors.\n# def main():\nimport pygpc\nfrom collections import OrderedDict\n\nfn_results = 'tmp/mestatic'       # filename of output\nsave_session_format = \".pkl\"      # file format of saved gpc session \".hdf5\" (slow) or \".pkl\" (fast)"
      ]
    },
    {
      "cell_type": "markdown",
      "metadata": {},
      "source": [
        "## Loading the model and defining the problem\n\n"
      ]
    },
    {
      "cell_type": "code",
      "execution_count": null,
      "metadata": {
        "collapsed": false
      },
      "outputs": [],
      "source": [
        "# define model\nmodel = pygpc.testfunctions.SurfaceCoverageSpecies()\n\n# define problem\nparameters = OrderedDict()\nparameters[\"rho_0\"] = pygpc.Beta(pdf_shape=[1, 1], pdf_limits=[0, 1])\nparameters[\"beta\"] = pygpc.Beta(pdf_shape=[1, 1], pdf_limits=[0, 20])\nparameters[\"alpha\"] = 1.\nproblem = pygpc.Problem(model, parameters)"
      ]
    },
    {
      "cell_type": "markdown",
      "metadata": {},
      "source": [
        "## Setting up the algorithm\n\n"
      ]
    },
    {
      "cell_type": "code",
      "execution_count": null,
      "metadata": {
        "collapsed": false
      },
      "outputs": [],
      "source": [
        "# gPC options\noptions = dict()\noptions[\"method\"] = \"reg\"\noptions[\"solver\"] = \"Moore-Penrose\"\noptions[\"settings\"] = None\noptions[\"order\"] = [10, 10]\noptions[\"order_max\"] = 10\noptions[\"interaction_order\"] = 2\noptions[\"n_cpu\"] = 0\noptions[\"gradient_enhanced\"] = False\noptions[\"error_type\"] = \"loocv\"\n\n# all QoIs are treated separately (one ME-gPC for each QoI, in this example we only have one QoI)\noptions[\"qoi\"] = \"all\"\n\n# Multi-Element classifier type is \"learning\"\noptions[\"classifier\"] = \"learning\"\n\n# set the options of the clusterer and classifier\noptions[\"classifier_options\"] = {\"clusterer\": \"KMeans\",\n                                 \"n_clusters\": 2,\n                                 \"classifier\": \"MLPClassifier\",\n                                 \"classifier_solver\": \"lbfgs\"}"
      ]
    },
    {
      "cell_type": "markdown",
      "metadata": {},
      "source": [
        "* **\"clusterer\":** For clustering (unsupervised learning) we choose *\"KMeans\"* from `sklearn.cluster.KMeans <https://scikit-learn.org/stable/modules/generated/sklearn.cluster.KMeans.html>`_\n  The clusterer assigns a domain ID to each sampling point depending on the function value.\n* **\"n_clusters\":** number of different domains\n* **\"classifier\":** For classification (supervised learning) we choose *\"MLPClassifier\"* from `sklearn.neural_network.MLPClassifier <https://scikit-learn.org/stable/modules/generated/sklearn.neural_network.MLPClassifier.html>`_\n  With the domain IDs from the clusterer and the associated parameter values of the sampling points, a classifier is\n  created, which can assign a domain ID to unknown (new) grid points.\n* **\"classifier_solver\":** The solver of the classifier for weight optimization. (*\"lbfgs\"* is an optimizer in the\n  family of quasi-Newton methods; *\"sgd\"* refers to stochastic gradient descent; *\"adam\"* refers to a stochastic\n  gradient-based optimizer from Kingma and Ba (2014))\n\n"
      ]
    },
    {
      "cell_type": "code",
      "execution_count": null,
      "metadata": {
        "collapsed": false
      },
      "outputs": [],
      "source": [
        "options[\"fn_results\"] = fn_results\noptions[\"save_session_format\"] = save_session_format\noptions[\"grid\"] = pygpc.Random\noptions[\"grid_options\"] = {\"seed\": 1}\noptions[\"n_grid\"] = 1000\noptions[\"adaptive_sampling\"] = False"
      ]
    },
    {
      "cell_type": "markdown",
      "metadata": {},
      "source": [
        "We are going to use a static gPC approach here without any basis adaption. Algorithms, which include the multi-element\ngPC approach are:\n\n* `Algorithm: MEStatic` (standard gPC approach with static basis)\n* `Algorithm: MEStatic_IO` (standard gPC approach with static basis but precalculated input/output relationships)\n* `Algorithm: MEStaticProjection` (standard gPC approach with dimensionality reduction approach in each domain)\n* `Algorithm: MERegAdaptiveProjection` (adaptive basis approach with dimensionality reduction approach in each domain)\n\n"
      ]
    },
    {
      "cell_type": "code",
      "execution_count": null,
      "metadata": {
        "collapsed": false
      },
      "outputs": [],
      "source": [
        "# define algorithm\nalgorithm = pygpc.MEStatic(problem=problem, options=options)"
      ]
    },
    {
      "cell_type": "markdown",
      "metadata": {},
      "source": [
        "## Running the gpc\n\n"
      ]
    },
    {
      "cell_type": "code",
      "execution_count": null,
      "metadata": {
        "collapsed": false
      },
      "outputs": [],
      "source": [
        "# Initialize gPC Session\nsession = pygpc.Session(algorithm=algorithm)\n\n# run gPC algorithm\nsession, coeffs, results = session.run()"
      ]
    },
    {
      "cell_type": "markdown",
      "metadata": {},
      "source": [
        "## Postprocessing\n\n"
      ]
    },
    {
      "cell_type": "code",
      "execution_count": null,
      "metadata": {
        "collapsed": false
      },
      "outputs": [],
      "source": [
        "# read session\nsession = pygpc.read_session(fname=session.fn_session, folder=session.fn_session_folder)\n\n# Post-process gPC\npygpc.get_sensitivities_hdf5(fn_gpc=options[\"fn_results\"],\n                             output_idx=None,\n                             calc_sobol=True,\n                             calc_global_sens=True,\n                             calc_pdf=True,\n                             algorithm=\"sampling\",\n                             n_samples=1e4)"
      ]
    },
    {
      "cell_type": "markdown",
      "metadata": {},
      "source": [
        "## Validation\nValidate gPC vs original model function (2D-surface)\n^^^^^^^^^^^^^^^^^^^^^^^^^^^^^^^^^^^^^^^^^^^^^^^^^^^^\n\n"
      ]
    },
    {
      "cell_type": "code",
      "execution_count": null,
      "metadata": {
        "collapsed": false
      },
      "outputs": [],
      "source": [
        "pygpc.validate_gpc_plot(session=session,\n                        coeffs=coeffs,\n                        random_vars=list(problem.parameters_random.keys()),\n                        n_grid=[51, 51],\n                        output_idx=[0],\n                        fn_out=None,\n                        folder=None,\n                        n_cpu=session.n_cpu)"
      ]
    },
    {
      "cell_type": "markdown",
      "metadata": {},
      "source": [
        "### Validate gPC vs original model function (Monte Carlo)\n\n"
      ]
    },
    {
      "cell_type": "code",
      "execution_count": null,
      "metadata": {
        "collapsed": false
      },
      "outputs": [],
      "source": [
        "nrmsd = pygpc.validate_gpc_mc(session=session,\n                              coeffs=coeffs,\n                              n_samples=int(1e4),\n                              output_idx=[0],\n                              fn_out=None,\n                              folder=None,\n                              plot=True,\n                              n_cpu=session.n_cpu)\n\nprint(\"> Maximum NRMSD (gpc vs original): {:.2}%\".format(max(nrmsd)))"
      ]
    },
    {
      "cell_type": "markdown",
      "metadata": {},
      "source": [
        "### Sensitivity analysis\n\n"
      ]
    },
    {
      "cell_type": "code",
      "execution_count": null,
      "metadata": {
        "collapsed": false
      },
      "outputs": [],
      "source": [
        "sobol, gsens = pygpc.get_sens_summary(fn_results, problem.parameters_random)\npygpc.plot_sens_summary(sobol=sobol, gsens=gsens)"
      ]
    },
    {
      "cell_type": "markdown",
      "metadata": {},
      "source": [
        "The Sobol indices at the top indicate that both parameters are influencing the output quantity by more than 40%.\nThe global (derivative based) sensitivity coefficients at the bottom reveal that an increase in parameter *rho_0*\nincreases the model function and an increase of *beta* decreases the model function to almost the same extent.\nThis can also be observed when taking a closer look at the model function in one of the previous figures.\n\n"
      ]
    },
    {
      "cell_type": "code",
      "execution_count": null,
      "metadata": {
        "collapsed": false
      },
      "outputs": [],
      "source": [
        "# On Windows subprocesses will import (i.e. execute) the main module at start.\n# You need to insert an if __name__ == '__main__': guard in the main module to avoid\n# creating subprocesses recursively.\n#\n# if __name__ == '__main__':\n#     main()"
      ]
    },
    {
      "cell_type": "markdown",
      "metadata": {},
      "source": [
        "### References\n.. [1] Weise, K., Po\u00dfner, L., M\u00fcller, E., Gast, R., & Kn\u00f6sche, T. R. (2020). Pygpc: A sensitivity and \n   uncertainty analysis toolbox for Python. SoftwareX, 11, 100450.\n.. [2] Kingma, D. P., & Ba, J. (2014). Adam: A method for stochastic optimization. arXiv preprint arXiv:1412.6980.\n\n"
      ]
    }
  ],
  "metadata": {
    "kernelspec": {
      "display_name": "Python 3",
      "language": "python",
      "name": "python3"
    },
    "language_info": {
      "codemirror_mode": {
        "name": "ipython",
        "version": 3
      },
      "file_extension": ".py",
      "mimetype": "text/x-python",
      "name": "python",
      "nbconvert_exporter": "python",
      "pygments_lexer": "ipython3",
      "version": "3.8.5"
    }
  },
  "nbformat": 4,
  "nbformat_minor": 0
}