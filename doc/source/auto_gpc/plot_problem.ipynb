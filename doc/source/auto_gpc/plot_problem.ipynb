{
  "cells": [
    {
      "cell_type": "code",
      "execution_count": null,
      "metadata": {
        "collapsed": false
      },
      "outputs": [],
      "source": [
        "%matplotlib inline"
      ]
    },
    {
      "cell_type": "markdown",
      "metadata": {},
      "source": [
        "\nHow to define a gPC problem\n===========================\nRandom parameters\n-----------------\nThe $d$ parameters of interest, which are assumed to underlie a distinct level of uncertainty, \nare modeled as a $d$-variate random vector denoted by $\\mathbf{\\xi} = (\\xi_1, \\xi_2, ... \\xi_d)$.\nIt is defined in the probability space $(\\Theta, \\Sigma, P)$. The event or random space $\\Theta$\ncontains all possible events. $\\Sigma$ is a $\\sigma$-Algebra over $\\Theta$,\ncontaining sets of events, and $P$ is a function assigning the probabilities of occurrence to the events.\nThe number of random variables $d$ determines the *dimension* of the uncertainty problem.\nIt is assumed that the parameters are statistically mutually independent from each other.\nIn order to perform a gPC expansion, the random variables must have a finite variance, which defines\nthe problem in the $L_2$-Hilbert space.\n\nThe probability density function (pdf) $p_i(\\xi_i)$, with $i=1,...,d$, has to be defined\nfor each random variable $\\xi_i$.\n\nCurrently, **pygpc** supports:\n"
      ]
    },
    {
      "cell_type": "markdown",
      "metadata": {},
      "source": [
        "Beta distributed random variables\n^^^^^^^^^^^^^^^^^^^^^^^^^^^^^^^^^\nProbability density function:\n\n\\begin{align}p(x) = \\left(\\frac{\\Gamma(p)\\Gamma(q)}{\\Gamma(p+q)}(b-a)^{(p+q-1)}\\right)^{-1} (x-a)^{(p-1)} (b-x)^{(q-1)}\\end{align}\n\nThe shape parameters of beta distributed random variable are defined with the parameter pdf_shape $=[p, q]$\nand the limits with pdf_limits $=[a, b]$.\n\n"
      ]
    },
    {
      "cell_type": "code",
      "execution_count": null,
      "metadata": {
        "collapsed": false
      },
      "outputs": [],
      "source": [
        "import pygpc\nfrom collections import OrderedDict\n\nparameters = OrderedDict()\nparameters[\"x1\"] = pygpc.Beta(pdf_shape=[5, 5], pdf_limits=[0, 1])\nparameters[\"x2\"] = pygpc.Beta(pdf_shape=[5, 2], pdf_limits=[0, 1])\nparameters[\"x3\"] = pygpc.Beta(pdf_shape=[2, 10], pdf_limits=[0, 1])\nparameters[\"x4\"] = pygpc.Beta(pdf_shape=[0.75, 0.75], pdf_limits=[0, 1])\nparameters[\"x5\"] = pygpc.Beta(pdf_shape=[1, 1], pdf_limits=[0, 1])\nax = parameters[\"x1\"].plot_pdf()\nax = parameters[\"x2\"].plot_pdf()\nax = parameters[\"x3\"].plot_pdf()\nax = parameters[\"x4\"].plot_pdf()\nax = parameters[\"x5\"].plot_pdf()\n_ = ax.legend([\"x1\", \"x2\", \"x3\", \"x4\", \"x5\"])"
      ]
    },
    {
      "cell_type": "markdown",
      "metadata": {},
      "source": [
        "Normal distributed random variables\n^^^^^^^^^^^^^^^^^^^^^^^^^^^^^^^^^^^\nProbability density function:\n\n\\begin{align}p(x) = \\frac{1}{\\sqrt{2\\pi\\sigma^2}}\\exp{-\\frac{(x-\\mu)^2}{2\\sigma^2}}\\end{align}\n\nThe mean and the standard deviation are defined with the parameter pdf_shape $=[\\mu, \\sigma]$.\n\n"
      ]
    },
    {
      "cell_type": "code",
      "execution_count": null,
      "metadata": {
        "collapsed": false
      },
      "outputs": [],
      "source": [
        "parameters = OrderedDict()\nparameters[\"x1\"] = pygpc.Norm(pdf_shape=[5, 1])\nparameters[\"x2\"] = pygpc.Norm(pdf_shape=[3, 2])\nparameters[\"x3\"] = pygpc.Norm(pdf_shape=[1, 3])\nax = parameters[\"x1\"].plot_pdf()\nax = parameters[\"x2\"].plot_pdf()\nax = parameters[\"x3\"].plot_pdf()\n_ = ax.legend([\"x1\", \"x2\", \"x3\"])"
      ]
    },
    {
      "cell_type": "markdown",
      "metadata": {},
      "source": [
        "Gamma distributed random variables\n^^^^^^^^^^^^^^^^^^^^^^^^^^^^^^^^^^\nProbability density function:\n\n\\begin{align}p(x) = \\frac{\\beta^{\\alpha}}{\\Gamma(\\alpha)}x^{\\alpha-1}e^{\\beta x}\\end{align}\n\nThe shape, rate and the location of the gamma distributed random variable is defined with\nthe parameter pdf_shape $=[\\alpha, \\beta, loc]$\n\n"
      ]
    },
    {
      "cell_type": "code",
      "execution_count": null,
      "metadata": {
        "collapsed": false
      },
      "outputs": [],
      "source": [
        "parameters = OrderedDict()\nparameters[\"x1\"] = pygpc.Gamma(pdf_shape=[1, 1, 0])\nparameters[\"x2\"] = pygpc.Gamma(pdf_shape=[5, 5, 0])\nparameters[\"x3\"] = pygpc.Gamma(pdf_shape=[5, 2, 1.5])\nparameters[\"x4\"] = pygpc.Gamma(pdf_shape=[2, 1, 1])\n\nax = parameters[\"x1\"].plot_pdf()\nax = parameters[\"x2\"].plot_pdf()\nax = parameters[\"x3\"].plot_pdf()\nax = parameters[\"x4\"].plot_pdf()\n_ = ax.legend([\"x1\", \"x2\", \"x3\", \"x4\"])"
      ]
    },
    {
      "cell_type": "markdown",
      "metadata": {},
      "source": [
        "Problem definition\n^^^^^^^^^^^^^^^^^^\nThe gPC problem is initialized with the model and the parameters defined before:\n\n"
      ]
    },
    {
      "cell_type": "code",
      "execution_count": null,
      "metadata": {
        "collapsed": false
      },
      "outputs": [],
      "source": [
        "# define model\nmodel = pygpc.testfunctions.Peaks()\n\n# define problem\nproblem = pygpc.Problem(model, parameters)"
      ]
    }
  ],
  "metadata": {
    "kernelspec": {
      "display_name": "Python 3",
      "language": "python",
      "name": "python3"
    },
    "language_info": {
      "codemirror_mode": {
        "name": "ipython",
        "version": 3
      },
      "file_extension": ".py",
      "mimetype": "text/x-python",
      "name": "python",
      "nbconvert_exporter": "python",
      "pygments_lexer": "ipython3",
      "version": "3.7.3"
    }
  },
  "nbformat": 4,
  "nbformat_minor": 0
}