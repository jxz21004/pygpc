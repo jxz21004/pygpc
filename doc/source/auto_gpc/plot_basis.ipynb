{
  "cells": [
    {
      "cell_type": "code",
      "execution_count": null,
      "metadata": {
        "collapsed": false
      },
      "outputs": [],
      "source": [
        "%matplotlib inline"
      ]
    },
    {
      "cell_type": "markdown",
      "metadata": {},
      "source": [
        "\nPolynomial basis functions\n==========================\n"
      ]
    },
    {
      "cell_type": "markdown",
      "metadata": {},
      "source": [
        "Test problem\n------------\n\n"
      ]
    },
    {
      "cell_type": "code",
      "execution_count": null,
      "metadata": {
        "collapsed": false
      },
      "outputs": [],
      "source": [
        "import pygpc\nimport time\nimport numpy as np\nimport matplotlib.pyplot as plt\nfrom IPython import display\nfrom collections import OrderedDict\n\n# define model\nmodel = pygpc.testfunctions.Ishigami()\n\n# define parameters\nparameters = OrderedDict()\nparameters[\"x1\"] = pygpc.Beta(pdf_shape=[1, 1], pdf_limits=[-np.pi, np.pi])\nparameters[\"x2\"] = pygpc.Beta(pdf_shape=[1, 1], pdf_limits=[-np.pi, np.pi])\nparameters[\"x3\"] = pygpc.Beta(pdf_shape=[1, 1], pdf_limits=[-np.pi, np.pi])\n\n# define problem\nproblem = pygpc.Problem(model, parameters)"
      ]
    },
    {
      "cell_type": "markdown",
      "metadata": {},
      "source": [
        "Total-order gPC\n^^^^^^^^^^^^^^^\nIn general, the set $\\mathcal{A}(\\mathbf{p})$ of multi-indices can be freely chosen according\nto the problem under investigation. In the following figures, the blue boxes correspond to polynomials\nincluded in the gPC expansion. The coordinates of the boxes correspond to the multi-indices\n$\\mathbf{\\alpha}$, which correspond to the polynomial degrees of the individual basis functions\nforming the joint basis functions. For a total-order gPC, the number of basis functions, and hence,\ncoefficients to determine, increases exponentially in this case $N_c=(P+1)^d$\nsphinx_gallery_thumbnail_number = 2\n\n"
      ]
    },
    {
      "cell_type": "code",
      "execution_count": null,
      "metadata": {
        "collapsed": false
      },
      "outputs": [],
      "source": [
        "basis = pygpc.Basis()\nbasis.init_basis_sgpc(problem=problem,\n                      order=[5, 5, 5],\n                      order_max=15,\n                      order_max_norm=1,\n                      interaction_order=3)\n\nbasis.plot_basis(dims=[0, 1, 2])"
      ]
    },
    {
      "cell_type": "markdown",
      "metadata": {},
      "source": [
        "Maximum-order gPC\n^^^^^^^^^^^^^^^^^\nIn practical applications, the more economical maximum total order gPC is preferably used.\nIn this case, the set $\\mathcal{A}(p_g)$ includes all polynomials whose total order\ndoes not exceed a predefined value $P_g$.\n\n\\begin{align}\\mathcal{A}(p_g) = \\left\\{ \\mathbf{\\alpha} \\, : \\, \\sum_{i=1}^{d} \\alpha_i \\leq p_g \\right\\} =\n    \\left\\{ \\mathbf{\\alpha} \\, : \\lVert \\mathbf{\\alpha} \\rVert_1  \\leq p_g \\right\\}\\end{align}\n\nThis results in a reduced set of basis functions and is termed maximum order gPC. The number of multi-indices,\nand hence, the dimension of the space spanned by the polynomials, is:\n\n\\begin{align}N_c = \\binom{d+p_g}{d} = \\frac{(d+p_g)!}{d!p_g!}.\\end{align}\n\n"
      ]
    },
    {
      "cell_type": "code",
      "execution_count": null,
      "metadata": {
        "collapsed": false
      },
      "outputs": [],
      "source": [
        "basis = pygpc.Basis()\nbasis.init_basis_sgpc(problem=problem,\n                      order=[5, 5, 5],\n                      order_max=5,\n                      order_max_norm=1,\n                      interaction_order=3)\n\nbasis.plot_basis(dims=[0, 1, 2])"
      ]
    },
    {
      "cell_type": "markdown",
      "metadata": {},
      "source": [
        "Reduced-basis gPC\n-----------------\nThe concept of the *maximum-order* gPC is extended by introducing three new parameters:\n- the *univariate* expansion order $\\mathbf{p}_u = (p_{u,1},...,p_{u,d})$ with\n$p_{u,i}>p_g \\forall i={1,...,d}$\n- the *interaction order* $p_i$, limits the number of interacting parameters and it reflects the\ndimensionality, i.e. the number of random variables (independent variables) appearing in the\nbasis function $\\Psi_{\\mathbf{\\alpha}}({\\xi})$: $\\lVert\\mathbf{\\alpha}\\rVert_0 \\leq p_i$\n- the *maximum order norm* $q$ additionally truncates the included basis functions\nin terms of the maximum order $p_g$ such that\n$\\lVert \\mathbf{\\alpha} \\rVert_{q}=\\sqrt[q]{\\sum_{i=1}^d \\alpha_i^{q}} \\leq p_g$\n\nThose parameters define the set\n$\\mathcal{A}(\\mathbf{p})$ with $\\mathbf{p} = (\\mathbf{p}_u,p_i,p_g, q)$\n\nThe reduced set $\\mathcal{A}(\\mathbf{p})$ is then constructed by the following rule:\n\n\\begin{align}\\mathcal{A}(\\mathbf{p}) := \\left\\{ \\mathbf{\\alpha} \\in \\mathbb{N}_0^d\\, :\n    (\\lVert \\mathbf{\\alpha} \\rVert_q  \\leq p_g \\wedge \\lVert\\mathbf{\\alpha}\\rVert_0 \\leq p_i)\n    \\vee (\\lVert \\mathbf{\\alpha} \\rVert_1  \\leq p_{u,i} \\wedge \\lVert\\mathbf{\\alpha}\\rVert_0 = 1,\n    \\forall i \\in \\{1,...,d\\}) \\right\\}\\end{align}\n\nIt includes all elements from a total order gPC with the restriction of the interaction order\n$P_i$. Additionally, univariate polynomials of higher orders specified in $\\mathbf{P}_u$\nmay be added to the set of basis functions.\n\n"
      ]
    },
    {
      "cell_type": "code",
      "execution_count": null,
      "metadata": {
        "collapsed": false
      },
      "outputs": [],
      "source": [
        "# reduced basis gPC\nbasis = pygpc.Basis()\nbasis.init_basis_sgpc(problem=problem,\n                      order=[10, 12, 3],\n                      order_max=7,\n                      order_max_norm=0.8,\n                      interaction_order=3)\n\nbasis.plot_basis(dims=[0, 1, 2])"
      ]
    },
    {
      "cell_type": "markdown",
      "metadata": {},
      "source": [
        "Adaptive basis\n^^^^^^^^^^^^^^\nThe basic problem in gPC is to find a suitable basis while reducing the number of necessary forward\nsimulations to determine the gPC coefficients!\n\n"
      ]
    },
    {
      "cell_type": "code",
      "execution_count": null,
      "metadata": {
        "collapsed": false
      },
      "outputs": [],
      "source": [
        "basis_order = np.array([-1, 0])\ninteraction_order = 2\norder_max_norm = 1\nn_iter = 10\n\n# define model\nmodel = pygpc.testfunctions.Ishigami()\n\n# define parameters\nparameters = OrderedDict()\nparameters[\"x1\"] = pygpc.Beta(pdf_shape=[1, 1], pdf_limits=[-np.pi, np.pi])\nparameters[\"x2\"] = pygpc.Beta(pdf_shape=[1, 1], pdf_limits=[-np.pi, np.pi])\nparameters[\"x3\"] = pygpc.Beta(pdf_shape=[1, 1], pdf_limits=[-np.pi, np.pi])\n\n# define problem\nproblem = pygpc.Problem(model, parameters)\nbasis = pygpc.Basis()\n\nfor i in range(n_iter):\n    # increment basis\n    basis_order[0], basis_order[1] = pygpc.increment_basis(order_current=basis_order[0],\n                                                           interaction_order_current=basis_order[1],\n                                                           interaction_order_max=interaction_order,\n                                                           incr=1)\n\n    # set basis\n    basis.init_basis_sgpc(problem=problem,\n                          order=[basis_order[0]] * problem.dim,\n                          order_max=basis_order[0],\n                          order_max_norm=order_max_norm,\n                          interaction_order=interaction_order,\n                          interaction_order_current=basis_order[1])\n\n    # plot basis\n    basis.plot_basis(dims=[0, 1, 2], dynamic_plot_update=True)\n\n    time.sleep(0.5)\n    display.display(plt.gcf())\n\n    if i != (n_iter-1):\n        display.clear_output(wait=True)\n        plt.close()"
      ]
    }
  ],
  "metadata": {
    "kernelspec": {
      "display_name": "Python 3",
      "language": "python",
      "name": "python3"
    },
    "language_info": {
      "codemirror_mode": {
        "name": "ipython",
        "version": 3
      },
      "file_extension": ".py",
      "mimetype": "text/x-python",
      "name": "python",
      "nbconvert_exporter": "python",
      "pygments_lexer": "ipython3",
      "version": "3.7.3"
    }
  },
  "nbformat": 4,
  "nbformat_minor": 0
}