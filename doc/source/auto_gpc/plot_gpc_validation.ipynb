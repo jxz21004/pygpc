{
  "cells": [
    {
      "cell_type": "code",
      "execution_count": null,
      "metadata": {
        "collapsed": false
      },
      "outputs": [],
      "source": [
        "%matplotlib inline"
      ]
    },
    {
      "cell_type": "markdown",
      "metadata": {},
      "source": [
        "\nValidation of gPC approximation\n===============================\nAt some point you wish to know how well the gPC approximation fits to the original model function. Let us start\nby determining a gPC approximation with fixed basis of the Peaks function in the given interval:\n"
      ]
    },
    {
      "cell_type": "code",
      "execution_count": null,
      "metadata": {
        "collapsed": false
      },
      "outputs": [],
      "source": [
        "import pygpc\nfrom collections import OrderedDict\n\n# define model\nmodel = pygpc.testfunctions.Peaks()\n\n# define problem\nparameters = OrderedDict()\nparameters[\"x1\"] = pygpc.Beta(pdf_shape=[1, 1], pdf_limits=[1.2, 2])\nparameters[\"x2\"] = 1.25\nparameters[\"x3\"] = pygpc.Beta(pdf_shape=[1, 1], pdf_limits=[0, 0.6])\nproblem = pygpc.Problem(model, parameters)\n\n# gPC options\noptions = dict()\noptions[\"method\"] = \"reg\"\noptions[\"solver\"] = \"Moore-Penrose\"\noptions[\"settings\"] = None\noptions[\"order\"] = [9, 9]\noptions[\"order_max\"] = 9\noptions[\"interaction_order\"] = 2\noptions[\"matrix_ratio\"] = 2\noptions[\"error_type\"] = \"nrmsd\"\noptions[\"n_samples_validation\"] = 1e3\noptions[\"n_cpu\"] = 0\noptions[\"fn_results\"] = None\noptions[\"gradient_enhanced\"] = True\noptions[\"gradient_calculation\"] = \"FD_1st2nd\"\noptions[\"gradient_calculation_options\"] = {\"dx\": 0.05, \"distance_weight\": -2}\noptions[\"backend\"] = \"omp\"\noptions[\"grid\"] = pygpc.Random\noptions[\"grid_options\"] = None\n\n# determine number of basis functions\nn_coeffs = pygpc.get_num_coeffs_sparse(order_dim_max=options[\"order\"],\n                                       order_glob_max=options[\"order_max\"],\n                                       order_inter_max=options[\"interaction_order\"],\n                                       dim=problem.dim)\n# generate grid\ngrid = pygpc.Random(parameters_random=problem.parameters_random,\n                    n_grid=options[\"matrix_ratio\"] * n_coeffs,\n                    seed=1)\n\n# initialize algorithm\nalgorithm = pygpc.Static(problem=problem, options=options, grid=grid)\n\n# initialize gPC Session\nsession = pygpc.Session(algorithm=algorithm)\n\n# run gPC algorithm\nsession, coeffs, results = session.run()"
      ]
    },
    {
      "cell_type": "markdown",
      "metadata": {},
      "source": [
        "Validate gPC vs original model function (2D-surface)\n^^^^^^^^^^^^^^^^^^^^^^^^^^^^^^^^^^^^^^^^^^^^^^^^^^^^\nAfter deriving the gPC approximation, you can compare our gPC with the original model in dependence of\none or two parameters with the function pygpc.validate_gpc_plot():\nsphinx_gallery_thumbnail_number = 2\n\n"
      ]
    },
    {
      "cell_type": "code",
      "execution_count": null,
      "metadata": {
        "collapsed": false
      },
      "outputs": [],
      "source": [
        "pygpc.validate_gpc_plot(session=session,\n                        coeffs=coeffs,\n                        random_vars=[\"x1\", \"x3\"],\n                        n_grid=[51, 51],\n                        output_idx=[0],\n                        fn_out=None,\n                        folder=None,\n                        n_cpu=session.n_cpu)"
      ]
    },
    {
      "cell_type": "markdown",
      "metadata": {},
      "source": [
        "The random parameters for which we want to conduct the validation can be specified in the parameter *random_vars*.\nThe remaining random parameters are set to their mean values.\nYou can also specify the resolution of our validation in the parameter *n_grid*. Beware that this function calls the\noriginal model and may take some time to finish depending on the resolution and the computational cost of your model.\nIf there exist multiple QOI, the index of the QOI has to be specified in the parameter *output_idx*.\nThe results can be saved in an .hdf5 file specified with *fn_out* within a subfolder specified by *folder*.\nThe parameter n_cpu specifies the kind of `parallelization <../auto_features/plot_parallelization.html>`_.\n\n"
      ]
    },
    {
      "cell_type": "markdown",
      "metadata": {},
      "source": [
        "Validate gPC vs original model function (Monte Carlo)\n^^^^^^^^^^^^^^^^^^^^^^^^^^^^^^^^^^^^^^^^^^^^^^^^^^^^^\nAnother way to validate your gPC approximation is to compare the probability density function of a QOI between\nthe gPC and the original. This can be done by calling the function pygpc.validate_gpc_mc():\n\n"
      ]
    },
    {
      "cell_type": "code",
      "execution_count": null,
      "metadata": {
        "collapsed": false
      },
      "outputs": [],
      "source": [
        "nrmsd = pygpc.validate_gpc_mc(session=session,\n                              coeffs=coeffs,\n                              n_samples=int(1e5),\n                              output_idx=None,\n                              fn_out=None,\n                              folder=None,\n                              plot=True,\n                              n_cpu=session.n_cpu)\n\nprint(\"> Maximum NRMSD (gpc vs original): {:.2}%\".format(max(nrmsd)))"
      ]
    },
    {
      "cell_type": "markdown",
      "metadata": {},
      "source": [
        "The parameter *n_samples* specifies the number of random samples drawn. Beware that this function calls the\noriginal model and may take some time to finish.\nIf you want to conduct the comparison for a specific QOI, you can define it with the parameter *output_idx*.\nSimilar to the previous function, the results can be saved into an .hdf5 file specified with the parameter\n*fn_out* within a subfolder *folder*. The plots can be supressed by setting the *plot* to False.\n\n"
      ]
    }
  ],
  "metadata": {
    "kernelspec": {
      "display_name": "Python 3",
      "language": "python",
      "name": "python3"
    },
    "language_info": {
      "codemirror_mode": {
        "name": "ipython",
        "version": 3
      },
      "file_extension": ".py",
      "mimetype": "text/x-python",
      "name": "python",
      "nbconvert_exporter": "python",
      "pygments_lexer": "ipython3",
      "version": "3.7.3"
    }
  },
  "nbformat": 4,
  "nbformat_minor": 0
}