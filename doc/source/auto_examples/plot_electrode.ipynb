{
  "cells": [
    {
      "cell_type": "code",
      "execution_count": null,
      "metadata": {
        "collapsed": false
      },
      "outputs": [],
      "source": [
        "%matplotlib inline"
      ]
    },
    {
      "cell_type": "markdown",
      "metadata": {},
      "source": [
        "\nExample: Modelling of an electrode\n==================================\n\nAbout the model\n^^^^^^^^^^^^^^^^^^^^^^^^^^^^^^^^^^^^^^^^^^^^^^^^^^^^^^^^\nThis tutorial shows the application of pygpc to an equivalent electrical circuit, modelling the impedance of\nan open-ended coaxial electrode.\nThe model consists of a Randles circuit that was modified according to the coaxial geometry of the electrode.\nThe parameters model the different contributions of the physical phenomena as follows:\n\n1. **Rs** models the contribution of the serial resistance of an electrolyte that the electrode is dipped into.\n2. **Qdl** models the distributed double layer capacitance of the electrode.\n3. **Rct** models the charge transfer resistance between the electrode and the electrolyte\n4. **Qd** and **Rd** model the diffusion of charge carriers and other particles towards the electrode surface.\n\nThe elements **Qdl** and **Qd** can be described with:\n$\\frac{1}{Q(j\\omega)^\\alpha}$\nThe equation depends on the angular frequency $\\omega$ as a variable and $Q$ and $\\alpha$\nas parameters.\n\nThe impedance of the equivalent circuit is complex valued, has seven parameters $Rs$,  $Rct$,  $Rd$,\n$Qd$, $\\alpha d$, $Qdl$, $\\alpha dl$ and one variable $\\omega$.\n"
      ]
    },
    {
      "cell_type": "code",
      "execution_count": null,
      "metadata": {
        "collapsed": false
      },
      "outputs": [],
      "source": [
        "import matplotlib.pyplot as plt\n\n_ = plt.figure(figsize=[15, 7])\n_ = plt.imshow(plt.imread(\"../images/modified_Randles_circuit.png\"))\n_ = plt.axis('off')"
      ]
    },
    {
      "cell_type": "markdown",
      "metadata": {},
      "source": [
        "Loading the model and defining the problem\n------------------------------------------\n\n"
      ]
    },
    {
      "cell_type": "code",
      "execution_count": null,
      "metadata": {
        "collapsed": false
      },
      "outputs": [],
      "source": [
        "import pygpc\nimport numpy as np\nfrom collections import OrderedDict\n\nfn_results = 'tmp/electrode'   # filename of output\nsave_session_format = \".hdf5\"  # file format of saved gpc session \".hdf5\" (slow) or \".pkl\" (fast)\n\n# define model\nmodel = pygpc.testfunctions.ElectrodeModel()\n\n# define problem\nparameters = OrderedDict()\n# Set parameters\nmu_n_Qdl = 0.67\nparameters[\"n_Qdl\"] = pygpc.Beta(pdf_shape=[1, 1], pdf_limits=[mu_n_Qdl*0.9, mu_n_Qdl*1.1])\nmu_Qdl = 6e-7\nparameters[\"Qdl\"] = pygpc.Beta(pdf_shape=[1, 1], pdf_limits=[mu_Qdl*0.9, mu_Qdl*1.1])\nmu_n_Qd = 0.95\nmu_n_Qd_end = 1.0\nparameters[\"n_Qd\"] = pygpc.Beta(pdf_shape=[1, 1], pdf_limits=[mu_n_Qd*0.9, mu_n_Qd_end])\nmu_Qd = 4e-10\nparameters[\"Qd\"] = pygpc.Beta(pdf_shape=[1, 1], pdf_limits=[mu_Qd*0.9, mu_Qd*1.1])\nRs_begin = 0\nRs_end = 1000\nparameters[\"Rs\"] = pygpc.Beta(pdf_shape=[1, 1], pdf_limits=[Rs_begin, Rs_end])\nmu_Rct = 10e3\nparameters[\"Rct\"] = pygpc.Beta(pdf_shape=[1, 1], pdf_limits=[mu_Rct*0.9, mu_Rct*1.1])\nmu_Rd = 120e3\nparameters[\"Rd\"] = pygpc.Beta(pdf_shape=[1, 1], pdf_limits=[mu_Rd*0.9, mu_Rd*1.1])\n# parameters[\"w\"] = np.logspace(0, 9, 1000)\nparameters[\"w\"] = 2*np.pi*np.logspace(0, 9, 1000)\nproblem = pygpc.Problem(model, parameters)"
      ]
    },
    {
      "cell_type": "markdown",
      "metadata": {},
      "source": [
        "Setting up the algorithm\n------------------------\n\n"
      ]
    },
    {
      "cell_type": "code",
      "execution_count": null,
      "metadata": {
        "collapsed": false
      },
      "outputs": [],
      "source": [
        "# Set gPC options\noptions = dict()\noptions[\"method\"] = \"reg\"\noptions[\"solver\"] = \"Moore-Penrose\"\noptions[\"settings\"] = None\noptions[\"order\"] = [5] * problem.dim\noptions[\"order_max\"] = 5\noptions[\"interaction_order\"] = 3\noptions[\"matrix_ratio\"] = 3\noptions[\"error_type\"] = \"nrmsd\"\noptions[\"n_samples_validation\"] = 1e3\noptions[\"n_cpu\"] = 0\noptions[\"fn_results\"] = fn_results\noptions[\"save_session_format\"] = '.pkl'\noptions[\"gradient_enhanced\"] = False\noptions[\"gradient_calculation\"] = \"FD_1st2nd\"\noptions[\"gradient_calculation_options\"] = {\"dx\": 0.05, \"distance_weight\": -2}\noptions[\"backend\"] = \"omp\"\noptions[\"grid\"] = pygpc.Random\noptions[\"grid_options\"] = None\n\n# Define grid\nn_coeffs = pygpc.get_num_coeffs_sparse(order_dim_max=options[\"order\"],\n                                       order_glob_max=options[\"order_max\"],\n                                       order_inter_max=options[\"interaction_order\"],\n                                       dim=problem.dim)\n\ngrid = pygpc.Random(parameters_random=problem.parameters_random,\n                    n_grid=options[\"matrix_ratio\"] * n_coeffs,\n                    seed=1)\n# Define algorithm\nalgorithm = pygpc.Static(problem=problem, options=options, grid=grid)"
      ]
    },
    {
      "cell_type": "markdown",
      "metadata": {},
      "source": [
        "Running the gpc\n---------------\n\n"
      ]
    },
    {
      "cell_type": "code",
      "execution_count": null,
      "metadata": {
        "collapsed": false
      },
      "outputs": [],
      "source": [
        "# Initialize gPC Session\nsession = pygpc.Session(algorithm=algorithm)\n\n# run gPC algorithm\nsession, coeffs, results = session.run()"
      ]
    },
    {
      "cell_type": "markdown",
      "metadata": {},
      "source": [
        "Postprocessing\n--------------\n\n"
      ]
    },
    {
      "cell_type": "code",
      "execution_count": null,
      "metadata": {
        "collapsed": false
      },
      "outputs": [],
      "source": [
        "# read session\nsession = pygpc.read_session(fname=session.fn_session, folder=session.fn_session_folder)\n\n# Post-process gPC and add results to .hdf5 file\npygpc.get_sensitivities_hdf5(fn_gpc=session.fn_results,\n                             output_idx=None,\n                             calc_sobol=True,\n                             calc_global_sens=True,\n                             calc_pdf=True,\n                             n_samples=1e4)"
      ]
    },
    {
      "cell_type": "markdown",
      "metadata": {},
      "source": [
        "Validation\n----------\nValidate gPC vs original model function (2D-surface)\n^^^^^^^^^^^^^^^^^^^^^^^^^^^^^^^^^^^^^^^^^^^^^^^^^^^^\nValidate gPC vs original model function\n\n"
      ]
    },
    {
      "cell_type": "code",
      "execution_count": null,
      "metadata": {
        "collapsed": false
      },
      "outputs": [],
      "source": [
        "pygpc.validate_gpc_plot(session=session,\n                        coeffs=coeffs,\n                        random_vars=[\"Rd\", \"n_Qd\"],\n                        n_grid=[51, 51],\n                        output_idx=500,\n                        fn_out=None,\n                        n_cpu=session.n_cpu)"
      ]
    },
    {
      "cell_type": "markdown",
      "metadata": {},
      "source": [
        "Validate gPC vs original model function (Monte Carlo)\n^^^^^^^^^^^^^^^^^^^^^^^^^^^^^^^^^^^^^^^^^^^^^^^^^^^^^\n\n"
      ]
    },
    {
      "cell_type": "code",
      "execution_count": null,
      "metadata": {
        "collapsed": false
      },
      "outputs": [],
      "source": [
        "nrmsd = pygpc.validate_gpc_mc(session=session,\n                              coeffs=coeffs,\n                              n_samples=int(1e4),\n                              output_idx=500,\n                              n_cpu=session.n_cpu,\n                              fn_out=None)\n\nprint(\"> Maximum NRMSD (gpc vs original): {:.2}%\".format(max(nrmsd)))"
      ]
    },
    {
      "cell_type": "markdown",
      "metadata": {},
      "source": [
        "Mean and std of the real part of the model\n^^^^^^^^^^^^^^^^^^^^^^^^^^^^^^^^^^^^^^^^^^\nResult\n\n"
      ]
    },
    {
      "cell_type": "code",
      "execution_count": null,
      "metadata": {
        "collapsed": false
      },
      "outputs": [],
      "source": [
        "_ = plt.figure(figsize=[15, 7])\n_ = plt.imshow(plt.imread(\"../images/modified_Randles_circuit_GPC_re.png\"))\n_ = plt.axis('off')"
      ]
    },
    {
      "cell_type": "markdown",
      "metadata": {},
      "source": [
        "Mean and std of the imaginary part of the model\n^^^^^^^^^^^^^^^^^^^^^^^^^^^^^^^^^^^^^^^^^^\nResult\n\n"
      ]
    },
    {
      "cell_type": "code",
      "execution_count": null,
      "metadata": {
        "collapsed": false
      },
      "outputs": [],
      "source": [
        "_ = plt.figure(figsize=[15, 7])\n_ = plt.imshow(plt.imread(\"../images/modified_Randles_circuit_GPC_im.png\"))\n_ = plt.axis('off')"
      ]
    },
    {
      "cell_type": "markdown",
      "metadata": {},
      "source": [
        "Sobol indices of the parameters of the real part of the model\n^^^^^^^^^^^^^^^^^^^^^^^^^^^^^^^^^^^^^^^^^^^^^^^^^^^^^^^^^^^^^\nResult\n\n"
      ]
    },
    {
      "cell_type": "code",
      "execution_count": null,
      "metadata": {
        "collapsed": false
      },
      "outputs": [],
      "source": [
        "_ = plt.figure(figsize=[15, 7])\n_ = plt.imshow(plt.imread(\"../images/modified_Randles_circuit_GPC_sobol_re.png\"))\n_ = plt.axis('off')"
      ]
    },
    {
      "cell_type": "markdown",
      "metadata": {},
      "source": [
        "Sobol indices of the parameters of the imaginary part of the model\n^^^^^^^^^^^^^^^^^^^^^^^^^^^^^^^^^^^^^^^^^^^^^^^^^^^^^^^^^^^^^^^^^^\n Result\n\n"
      ]
    },
    {
      "cell_type": "code",
      "execution_count": null,
      "metadata": {
        "collapsed": false
      },
      "outputs": [],
      "source": [
        "_ = plt.figure(figsize=[15, 7])\n_ = plt.imshow(plt.imread(\"../images/modified_Randles_circuit_GPC_sobol_im.png\"))\n_ = plt.axis('off')"
      ]
    }
  ],
  "metadata": {
    "kernelspec": {
      "display_name": "Python 3",
      "language": "python",
      "name": "python3"
    },
    "language_info": {
      "codemirror_mode": {
        "name": "ipython",
        "version": 3
      },
      "file_extension": ".py",
      "mimetype": "text/x-python",
      "name": "python",
      "nbconvert_exporter": "python",
      "pygments_lexer": "ipython3",
      "version": "3.7.7"
    }
  },
  "nbformat": 4,
  "nbformat_minor": 0
}