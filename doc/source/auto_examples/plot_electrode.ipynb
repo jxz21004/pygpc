{
  "cells": [
    {
      "cell_type": "code",
      "execution_count": null,
      "metadata": {
        "collapsed": false
      },
      "outputs": [],
      "source": [
        "%matplotlib inline"
      ]
    },
    {
      "cell_type": "markdown",
      "metadata": {},
      "source": [
        "\n# Example: Modelling of an electrode\n\n## About the model\nThis tutorial shows the application of pygpc to an equivalent electrical circuit, modelling the impedance of\nan open-ended coaxial electrode.\nThe model consists of a Randles circuit that was modified according to the coaxial geometry of the electrode.\nThe parameters model the different contributions of the physical phenomena as follows:\n\n1. **Rs** models the contribution of the serial resistance of an electrolyte that the electrode is dipped into.\n2. **Qdl** models the distributed double layer capacitance of the electrode.\n3. **Rct** models the charge transfer resistance between the electrode and the electrolyte\n4. **Qd** and **Rd** model the diffusion of charge carriers and other particles towards the electrode surface.\n\nThe elements **Qdl** and **Qd** can be described with:\n$\\frac{1}{Q(j\\omega)^\\alpha}$\nThe equation depends on the angular frequency $\\omega$ as a variable and $Q$ and $\\alpha$\nas parameters.\n\nThe impedance of the equivalent circuit is complex valued, has seven parameters $$R_s$$,  $$R_{ct}$$,\n$$R_d$$, $$Q_d$$, $$\\alpha_d$$, $$Q_{dl}$$, $$\\alpha_{dl}$$\nand one variable $\\omega$.\n\nThe model returns an array of containing the real and imaginary part of every frequency point. Every element of this\narray is a quantity of interest (**Qoi**) and a gPC is computed for every quantity of interest.\n"
      ]
    },
    {
      "cell_type": "code",
      "execution_count": null,
      "metadata": {
        "collapsed": false
      },
      "outputs": [],
      "source": [
        "# Windows users have to encapsulate the code into a main function to avoid multiprocessing errors.\n# def main():\nimport matplotlib.pyplot as plt\n\n_ = plt.figure(figsize=[15, 7])\n_ = plt.imshow(plt.imread(\"../images/modified_Randles_circuit.png\"))\n_ = plt.axis('off')"
      ]
    },
    {
      "cell_type": "markdown",
      "metadata": {},
      "source": [
        "### Loading the model and defining the problem\n\n"
      ]
    },
    {
      "cell_type": "code",
      "execution_count": null,
      "metadata": {
        "collapsed": false
      },
      "outputs": [],
      "source": [
        "import pygpc\nimport numpy as np\nfrom collections import OrderedDict\n\nfn_results = 'GPC/electrode'   # filename of output\nsave_session_format = \".hdf5\"  # file format of saved gpc session \".hdf5\" (slow) or \".pkl\" (fast)\n\n# define model\nmodel = pygpc.testfunctions.ElectrodeModel()\n\n# define problem\nparameters = OrderedDict()\n\n# Set parameters\nmu_n_Qdl = 0.67\nparameters[\"n_Qdl\"] = pygpc.Beta(pdf_shape=[1, 1], pdf_limits=[mu_n_Qdl*0.9, mu_n_Qdl*1.1])\nmu_Qdl = 6e-7\nparameters[\"Qdl\"] = pygpc.Beta(pdf_shape=[1, 1], pdf_limits=[mu_Qdl*0.9, mu_Qdl*1.1])\nmu_n_Qd = 0.95\nmu_n_Qd_end = 1.0\nparameters[\"n_Qd\"] = pygpc.Beta(pdf_shape=[1, 1], pdf_limits=[mu_n_Qd*0.9, mu_n_Qd_end])\nmu_Qd = 4e-10\nparameters[\"Qd\"] = pygpc.Beta(pdf_shape=[1, 1], pdf_limits=[mu_Qd*0.9, mu_Qd*1.1])\nRs_begin = 0\nRs_end = 1000\nparameters[\"Rs\"] = pygpc.Beta(pdf_shape=[1, 1], pdf_limits=[Rs_begin, Rs_end])\nmu_Rct = 10e3\nparameters[\"Rct\"] = pygpc.Beta(pdf_shape=[1, 1], pdf_limits=[mu_Rct*0.9, mu_Rct*1.1])\nmu_Rd = 120e3\nparameters[\"Rd\"] = pygpc.Beta(pdf_shape=[1, 1], pdf_limits=[mu_Rd*0.9, mu_Rd*1.1])\n# parameters[\"w\"] = np.logspace(0, 9, 1000)\nparameters[\"w\"] = 2*np.pi*np.logspace(0, 9, 1000)\nproblem = pygpc.Problem(model, parameters)"
      ]
    },
    {
      "cell_type": "markdown",
      "metadata": {},
      "source": [
        "### Setting up the algorithm\n\n"
      ]
    },
    {
      "cell_type": "code",
      "execution_count": null,
      "metadata": {
        "collapsed": false
      },
      "outputs": [],
      "source": [
        "# Set gPC options\noptions = dict()\noptions[\"method\"] = \"reg\"\noptions[\"solver\"] = \"Moore-Penrose\"\noptions[\"settings\"] = None\noptions[\"order\"] = [5] * problem.dim\noptions[\"order_max\"] = 5\noptions[\"interaction_order\"] = 3\noptions[\"matrix_ratio\"] = 3\noptions[\"error_type\"] = \"nrmsd\"\noptions[\"n_samples_validation\"] = 1e3\noptions[\"n_cpu\"] = 0\noptions[\"fn_results\"] = fn_results\noptions[\"save_session_format\"] = '.pkl'\noptions[\"gradient_enhanced\"] = False\noptions[\"gradient_calculation\"] = \"FD_1st2nd\"\noptions[\"gradient_calculation_options\"] = {\"dx\": 0.05, \"distance_weight\": -2}\noptions[\"backend\"] = \"omp\"\noptions[\"grid\"] = pygpc.Random\noptions[\"grid_options\"] = None\n\n# Define grid\nn_coeffs = pygpc.get_num_coeffs_sparse(order_dim_max=options[\"order\"],\n                                       order_glob_max=options[\"order_max\"],\n                                       order_inter_max=options[\"interaction_order\"],\n                                       dim=problem.dim)\n\ngrid = pygpc.Random(parameters_random=problem.parameters_random,\n                    n_grid=options[\"matrix_ratio\"] * n_coeffs,\n                    options={\"seed\": 1})\n# Define algorithm\nalgorithm = pygpc.Static(problem=problem, options=options, grid=grid)"
      ]
    },
    {
      "cell_type": "markdown",
      "metadata": {},
      "source": [
        "### Running the gpc\n\n"
      ]
    },
    {
      "cell_type": "code",
      "execution_count": null,
      "metadata": {
        "collapsed": false
      },
      "outputs": [],
      "source": [
        "# Initialize gPC Session\nsession = pygpc.Session(algorithm=algorithm)\n\n# run gPC algorithm\nsession, coeffs, results = session.run()"
      ]
    },
    {
      "cell_type": "markdown",
      "metadata": {},
      "source": [
        "### Postprocessing\n\n"
      ]
    },
    {
      "cell_type": "code",
      "execution_count": null,
      "metadata": {
        "collapsed": false
      },
      "outputs": [],
      "source": [
        "# read session\nsession = pygpc.read_session(fname=session.fn_session, folder=session.fn_session_folder)\n\n# Post-process gPC and add results to .hdf5 file\npygpc.get_sensitivities_hdf5(fn_gpc=session.fn_results,\n                             output_idx=None,\n                             calc_sobol=True,\n                             calc_global_sens=True,\n                             calc_pdf=True,\n                             n_samples=1e4)"
      ]
    },
    {
      "cell_type": "markdown",
      "metadata": {},
      "source": [
        "### Validation\nValidate gPC vs original model function (2D-surface)\n^^^^^^^^^^^^^^^^^^^^^^^^^^^^^^^^^^^^^^^^^^^^^^^^^^^^\nValidate gPC vs original model function\n\n"
      ]
    },
    {
      "cell_type": "code",
      "execution_count": null,
      "metadata": {
        "collapsed": false
      },
      "outputs": [],
      "source": [
        "pygpc.validate_gpc_plot(session=session,\n                        coeffs=coeffs,\n                        random_vars=[\"Qdl\", \"Qd\"],\n                        n_grid=[51, 51],\n                        output_idx=500,\n                        fn_out=None,\n                        n_cpu=session.n_cpu)"
      ]
    },
    {
      "cell_type": "markdown",
      "metadata": {},
      "source": [
        "## Validate gPC vs original model function (Monte Carlo)\n\n"
      ]
    },
    {
      "cell_type": "code",
      "execution_count": null,
      "metadata": {
        "collapsed": false
      },
      "outputs": [],
      "source": [
        "nrmsd = pygpc.validate_gpc_mc(session=session,\n                              coeffs=coeffs,\n                              n_samples=int(1e4),\n                              output_idx=500,\n                              n_cpu=session.n_cpu,\n                              fn_out=fn_results)\n\nprint(\"> Maximum NRMSD (gpc vs original): {:.2}%\".format(max(nrmsd)))"
      ]
    },
    {
      "cell_type": "markdown",
      "metadata": {},
      "source": [
        "## Load sobol indices, mean and std from the *.hdf5 file\n\n"
      ]
    },
    {
      "cell_type": "code",
      "execution_count": null,
      "metadata": {
        "collapsed": false
      },
      "outputs": [],
      "source": [
        "import h5py\n\n# Set parameters for plot\nn_f = 1000\nf_start = 0\nf_stop = 9\nf = np.logspace(f_start, f_stop, n_f)\nlegend = [r\"$n_{Q_{dl}}$\", r\"$Q_{dl}$\", r\"$n_{Q_{d}}$\", r\"$Q_{d}$\", r\"$Rs$\", r\"$Rct$\", r\"$Rd$\"]\n\n# Set indices for quantities of interest\nreal_indices = np.arange(0, 1*n_f)\nimag_indices = np.arange(1*n_f, 2*n_f)\n\n# Load results file\nfile = h5py.File(fn_results + \".hdf5\", \"r\")\n\n# Load mean\nmean = file[\"sens/mean\"][()]\n\nmean_real = np.squeeze(mean[:, real_indices].T)\nmean_imag = np.squeeze(mean[:, imag_indices].T)\n\n# Load std\nstd = file[\"sens/std\"][()]\n\nstd_real = np.squeeze(std[:, real_indices].T)\nstd_imag = np.squeeze(std[:, imag_indices].T)\n\n# Load boolean array that indicates which sensitivity coefficient corresponds to which parameter or\n# interaction of parameters\nsobol_index_bool = std = file[\"sens/sobol_idx_bool\"][()]\n\n# Get die sobol coefficients for interactions of first order i.e. just the parameter\nn_Qdl_index_array = np.eye(7, 7)[0, :]\nQdl_index_array = np.eye(7, 7)[1, :]\nn_Qd_index_array = np.eye(7, 7)[2, :]\nQd_index_array = np.eye(7, 7)[3, :]\nRs_index_array = np.eye(7, 7)[4, :]\nRct_index_array = np.eye(7, 7)[5, :]\nRd_index_array = np.eye(7, 7)[6, :]\n\nn_Qdl_index = None\nQdl_index = None\nn_Qd_index = None\nQd_index = None\nRs_index = None\nRct_index = None\nRd_index = None\n\nfor index in range(sobol_index_bool.shape[0]):\n    if np.all(sobol_index_bool[index, :] == n_Qdl_index_array):\n        n_Qdl_index = index\n    if np.all(sobol_index_bool[index, :] == Qdl_index_array):\n        Qdl_index = index\n    if np.all(sobol_index_bool[index, :] == n_Qd_index_array):\n        n_Qd_index = index\n    if np.all(sobol_index_bool[index, :] == Qd_index_array):\n        Qd_index = index\n    if np.all(sobol_index_bool[index, :] == Rs_index_array):\n        Rs_index = index\n    if np.all(sobol_index_bool[index, :] == Rct_index_array):\n        Rct_index = index\n    if np.all(sobol_index_bool[index, :] == Rd_index_array):\n        Rd_index = index\n\n\nsobol_norm = std = file[\"sens/sobol_norm\"][()]\n\nsobol_norm_n_Qdl_real = sobol_norm[n_Qdl_index, real_indices]\nsobol_norm_n_Qdl_imag = sobol_norm[n_Qdl_index, imag_indices]\n\nsobol_norm_Qdl_real = sobol_norm[Qdl_index, real_indices]\nsobol_norm_Qdl_imag = sobol_norm[Qdl_index, imag_indices]\n\nsobol_norm_n_Qd_real = sobol_norm[n_Qd_index, real_indices]\nsobol_norm_n_Qd_imag = sobol_norm[n_Qd_index, imag_indices]\n\nsobol_norm_Qd_real = sobol_norm[Qd_index, real_indices]\nsobol_norm_Qd_imag = sobol_norm[Qd_index, imag_indices]\n\nsobol_norm_Rs_real = sobol_norm[Rs_index, real_indices]\nsobol_norm_Rs_imag = sobol_norm[Rs_index, imag_indices]\n\nsobol_norm_Rct_real = sobol_norm[Rct_index, real_indices]\nsobol_norm_Rct_imag = sobol_norm[Rct_index, imag_indices]\n\nsobol_norm_Rd_real = sobol_norm[Rd_index, real_indices]\nsobol_norm_Rd_imag = sobol_norm[Rd_index, imag_indices]\n\n\n# Print sum of first order sobol indices. The sum of all sobol indices must be equal to one\nprint(\"Minimum of sum of sobol indices of real part: \", np.min(sobol_norm_n_Qdl_real + sobol_norm_n_Qd_real +\n      sobol_norm_Qd_real + sobol_norm_Qdl_real + sobol_norm_Rs_real + sobol_norm_Rct_real + sobol_norm_Rd_real))\n\nprint(\"Maximum of sum of sobol indices of real part: \", np.max(sobol_norm_n_Qdl_real + sobol_norm_n_Qd_real +\n      sobol_norm_Qd_real + sobol_norm_Qdl_real + sobol_norm_Rs_real + sobol_norm_Rct_real + sobol_norm_Rd_real))\n\nprint(\"Mean of sum of sobol indices of real part: \", np.mean(sobol_norm_n_Qdl_real + sobol_norm_n_Qd_real +\n      sobol_norm_Qd_real + sobol_norm_Qdl_real + sobol_norm_Rs_real + sobol_norm_Rct_real + sobol_norm_Rd_real))\n\nprint(\"Minimum of sum of sobol indices of imag part: \", np.min(sobol_norm_n_Qdl_imag + sobol_norm_n_Qd_imag +\n      sobol_norm_Qd_imag + sobol_norm_Qdl_imag + sobol_norm_Rs_imag + sobol_norm_Rct_imag + sobol_norm_Rd_imag))\n\nprint(\"Maximum of sum of sobol indices of imag part: \", np.max(sobol_norm_n_Qdl_imag + sobol_norm_n_Qd_imag +\n      sobol_norm_Qd_imag + sobol_norm_Qdl_imag + sobol_norm_Rs_imag + sobol_norm_Rct_imag + sobol_norm_Rd_imag))\n\nprint(\"Mean of sum of sobol indices of imag part: \", np.mean(sobol_norm_n_Qdl_imag + sobol_norm_n_Qd_imag +\n      sobol_norm_Qd_imag + sobol_norm_Qdl_imag + sobol_norm_Rs_imag + sobol_norm_Rct_imag + sobol_norm_Rd_imag))\n\n# Close file\nfile.close()"
      ]
    },
    {
      "cell_type": "markdown",
      "metadata": {},
      "source": [
        "## Plot mean and std of real part of the model\nSet step size for frequency points to plot\n\n"
      ]
    },
    {
      "cell_type": "code",
      "execution_count": null,
      "metadata": {
        "collapsed": false
      },
      "outputs": [],
      "source": [
        "frequency_index_step = 20\n\n# Plot mean and std of real part of the model\n_ = plt.figure(figsize=[15, 7])\n_ = plt.semilogx(f[::frequency_index_step], mean_real[::frequency_index_step], \"C0o-\")\n_ = plt.fill_between(f[::frequency_index_step], mean_real[::frequency_index_step]-std_real[::frequency_index_step],\n                     mean_real[::frequency_index_step]+std_real[::frequency_index_step],\n                     color=\"grey\", alpha=0.5)\n_ = plt.title(\"Mean and std of the real part of Z\")\n_ = plt.xlabel(\"f/Hz\")\n_ = plt.ylabel(r\"Re(Z)/$\\Omega$\")"
      ]
    },
    {
      "cell_type": "markdown",
      "metadata": {},
      "source": [
        "## Plot mean and std of imaginary part of the model\n\n"
      ]
    },
    {
      "cell_type": "code",
      "execution_count": null,
      "metadata": {
        "collapsed": false
      },
      "outputs": [],
      "source": [
        "_ = plt.figure(figsize=[15, 7])\n_ = plt.semilogx(f[::frequency_index_step], mean_imag[::frequency_index_step], \"C1o-\")\n_ = plt.fill_between(f[::frequency_index_step], mean_imag[::frequency_index_step]-std_imag[::frequency_index_step], mean_imag[::frequency_index_step]+std_imag[::frequency_index_step],\n                     color=\"grey\", alpha=0.5)\n_ = plt.title(\"Mean and std of the imaginary part of Z\")\n_ = plt.xlabel(\"f/Hz\")\n_ = plt.ylabel(r\"Im(Z)/$\\Omega$\")"
      ]
    },
    {
      "cell_type": "markdown",
      "metadata": {},
      "source": [
        "## Plot sobol indices of the parameters of the real part of the model\nSet step size for frequency points to plot\n\n"
      ]
    },
    {
      "cell_type": "code",
      "execution_count": null,
      "metadata": {
        "collapsed": false
      },
      "outputs": [],
      "source": [
        "frequency_index_step = 1\n\n_ = plt.figure(figsize=[15, 7])\n\n_ = plt.loglog(f[::frequency_index_step], sobol_norm_n_Qdl_real[::frequency_index_step], label=r\"$n_{Q_{dl}}$\")\n_ = plt.loglog(f[::frequency_index_step], sobol_norm_Qdl_real[::frequency_index_step], label=r\"$Q_{dl}$\")\n_ = plt.loglog(f[::frequency_index_step], sobol_norm_n_Qd_real[::frequency_index_step], label=r\"$n_{Q_{d}}$\")\n_ = plt.loglog(f[::frequency_index_step], sobol_norm_Qd_real[::frequency_index_step], label=r\"$Q_{d}}$\")\n_ = plt.loglog(f[::frequency_index_step], sobol_norm_Rs_real[::frequency_index_step], label=r\"$R_s$\")\n_ = plt.loglog(f[::frequency_index_step], sobol_norm_Rct_real[::frequency_index_step], label=r\"$R_{ct}$\")\n_ = plt.loglog(f[::frequency_index_step], sobol_norm_Rd_real[::frequency_index_step], label=r\"$R_d$\")\n_ = plt.title(\"Sobol indices of the parameters of the real part of Z\")\n_ = plt.xlabel(\"f/Hz\")\n_ = plt.ylabel(\"S\")\n\nax = plt.gca()\nbox = ax.get_position()\nax.set_position([box.x0, box.y0, box.width * 0.8, box.height])\nax.legend(loc='center left', bbox_to_anchor=(1, 0.5))\nylim_bottom, ylim_top = plt.ylim()\n_ = plt.ylim([ylim_bottom, 10])\n_ = plt.yticks(np.flip(np.logspace(np.int(np.floor(np.log10(ylim_bottom))), 0,\n                                   np.int(np.abs(np.floor(np.log10(ylim_bottom))))+1))[::4])"
      ]
    },
    {
      "cell_type": "markdown",
      "metadata": {},
      "source": [
        "## Plot sobol indices of the parameters of the imaginary part of the model\n\n"
      ]
    },
    {
      "cell_type": "code",
      "execution_count": null,
      "metadata": {
        "collapsed": false
      },
      "outputs": [],
      "source": [
        "_ = plt.figure(figsize=[15, 7])\n\n_ = plt.loglog(f[::frequency_index_step], sobol_norm_n_Qdl_imag[::frequency_index_step], label=r\"$n_{Q_{dl}}$\")\n_ = plt.loglog(f[::frequency_index_step], sobol_norm_Qdl_imag[::frequency_index_step], label=r\"$Q_{dl}$\")\n_ = plt.loglog(f[::frequency_index_step], sobol_norm_n_Qd_imag[::frequency_index_step], label=r\"$n_{Q_{d}}$\")\n_ = plt.loglog(f[::frequency_index_step], sobol_norm_Qd_imag[::frequency_index_step], label=r\"$Q_{d}}$\")\n_ = plt.loglog(f[::frequency_index_step], sobol_norm_Rs_imag[::frequency_index_step], label=r\"$R_s$\")\n_ = plt.loglog(f[::frequency_index_step], sobol_norm_Rct_imag[::frequency_index_step], label=r\"$R_{ct}$\")\n_ = plt.loglog(f[::frequency_index_step], sobol_norm_Rd_imag[::frequency_index_step], label=r\"$R_d$\")\n_ = plt.title(\"Sobol indices of the parameters of the imaginary part of Z\")\n_ = plt.xlabel(\"f/Hz\")\n_ = plt.ylabel(\"S\")\n\nax = plt.gca()\nbox = ax.get_position()\nax.set_position([box.x0, box.y0, box.width * 0.8, box.height])\nax.legend(loc='center left', bbox_to_anchor=(1, 0.5))\nylim_bottom, ylim_top = plt.ylim()\n_ = plt.ylim([ylim_bottom, 10])\n_ = plt.yticks(np.flip(np.logspace(np.int(np.floor(np.log10(ylim_bottom))), 0,\n                                   np.int(np.abs(np.floor(np.log10(ylim_bottom))))+1))[::4])\n\n# On Windows subprocesses will import (i.e. execute) the main module at start.\n# You need to insert an if __name__ == '__main__': guard in the main module to avoid\n# creating subprocesses recursively.\n#\n# if __name__ == '__main__':\n#     main()"
      ]
    }
  ],
  "metadata": {
    "kernelspec": {
      "display_name": "Python 3",
      "language": "python",
      "name": "python3"
    },
    "language_info": {
      "codemirror_mode": {
        "name": "ipython",
        "version": 3
      },
      "file_extension": ".py",
      "mimetype": "text/x-python",
      "name": "python",
      "nbconvert_exporter": "python",
      "pygments_lexer": "ipython3",
      "version": "3.7.3"
    }
  },
  "nbformat": 4,
  "nbformat_minor": 0
}