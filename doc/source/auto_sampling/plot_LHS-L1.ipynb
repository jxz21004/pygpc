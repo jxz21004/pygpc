{
  "cells": [
    {
      "cell_type": "code",
      "execution_count": null,
      "metadata": {
        "collapsed": false
      },
      "outputs": [],
      "source": [
        "%matplotlib inline"
      ]
    },
    {
      "cell_type": "markdown",
      "metadata": {},
      "source": [
        "\n# Hybrid LHS-L1 sampling\nDESCRIBE GRIDS HERE\n\n## Example\nIn order to create a grid of sampling points, we have to define the random parameters and create a gpc object.\n"
      ]
    },
    {
      "cell_type": "code",
      "execution_count": null,
      "metadata": {
        "collapsed": false
      },
      "outputs": [],
      "source": [
        "import pygpc\nimport numpy as np\nimport seaborn as sns\nimport matplotlib.pyplot as plt\nfrom collections import OrderedDict\n\n# define model\nmodel = pygpc.testfunctions.RosenbrockFunction()\n\n# define parameters\nparameters = OrderedDict()\nparameters[\"x1\"] = pygpc.Beta(pdf_shape=[1, 1], pdf_limits=[-np.pi, np.pi])\nparameters[\"x2\"] = pygpc.Beta(pdf_shape=[1, 1], pdf_limits=[-np.pi, np.pi])\n\n# define problem\nproblem = pygpc.Problem(model, parameters)\n\n# create gpc object\ngpc = pygpc.Reg(problem=problem,\n                order=[5]*problem.dim,\n                order_max=5,\n                order_max_norm=1,\n                interaction_order=2,\n                interaction_order_current=2,\n                options=None,\n                validation=None)"
      ]
    },
    {
      "cell_type": "markdown",
      "metadata": {},
      "source": [
        "LHS-L1 designs with different optimization criteria can be created using the \"criterion\" argument in the options\ndictionary. Additionally it is possible to define the ratio between the number of LHS and L1 optimal sampling points\nby the weights. In the following, we are going to create different LHS-L1 designs for 2 random variables with 200\nsampling points:\n\n"
      ]
    },
    {
      "cell_type": "code",
      "execution_count": null,
      "metadata": {
        "collapsed": false
      },
      "outputs": [],
      "source": [
        "grid_025_075 = pygpc.LHS_L1(parameters_random=parameters,\n                            n_grid=200,\n                            gpc=gpc,\n                            options={\"weights\": [0.25, 0.75],\n                                     \"criterion\": [\"mc\", \"cc\"],\n                                     \"method\": \"greedy\",\n                                     \"n_pool\": 1000,\n                                     \"seed\": None})\n\ngrid_050_050 = pygpc.LHS_L1(parameters_random=parameters,\n                            n_grid=200,\n                            gpc=gpc,\n                            options={\"weights\": [0.50, 0.50],\n                                     \"criterion\": [\"mc\", \"cc\"],\n                                     \"method\": \"greedy\",\n                                     \"n_pool\": 1000,\n                                     \"seed\": None})\n\ngrid_075_025 = pygpc.LHS_L1(parameters_random=parameters,\n                            n_grid=200,\n                            gpc=gpc,\n                            options={\"weights\": [0.75, 0.25],\n                                     \"criterion\": [\"mc\", \"cc\"],\n                                     \"method\": \"greedy\",\n                                     \"n_pool\": 1000,\n                                     \"seed\": None})"
      ]
    },
    {
      "cell_type": "markdown",
      "metadata": {},
      "source": [
        "The following options are available for LHS-L1-optimal grids:\n\n- seed: set a seed to reproduce the results (default: None)\n- weights: weights between LHS and L1 optimal grid points\n- method:\n   - \"greedy\": greedy algorithm (default, recommended)\n   - \"iter\": iterative algorithm (faster but does not perform as good as \"greedy\")\n- criterion:\n   - [\"mc\"]: mutual coherence optimal\n   - [\"mc\", \"cc\"]: mutual coherence and cross correlation optimal\n   - [\"tmc\", \"cc\"]: t-averaged mutual coherence and cross correlation optimal\n- n_pool: number of grid points in overall pool to select optimal points from (default: 10.000)\n\nThe grid points are distributed as follows (in the normalized space):\n\n"
      ]
    },
    {
      "cell_type": "code",
      "execution_count": null,
      "metadata": {
        "collapsed": false
      },
      "outputs": [],
      "source": [
        "fig, ax = plt.subplots(nrows=1, ncols=3, squeeze=True, figsize=(9.53, 3.2))\n\nax[0].scatter(grid_025_075.coords_norm[:grid_025_075.grid_LHS.n_grid, 0],\n              grid_025_075.coords_norm[:grid_025_075.grid_LHS.n_grid, 1],\n              color=sns.color_palette(\"bright\", 5)[0])\nax[0].scatter(grid_025_075.coords_norm[grid_025_075.grid_LHS.n_grid:, 0],\n              grid_025_075.coords_norm[grid_025_075.grid_LHS.n_grid:, 1],\n              color=sns.color_palette(\"pastel\", 5)[0], edgecolor=\"k\", alpha=0.75)\nax[1].scatter(grid_050_050.coords_norm[:grid_050_050.grid_LHS.n_grid, 0],\n              grid_050_050.coords_norm[:grid_050_050.grid_LHS.n_grid, 1],\n              color=sns.color_palette(\"bright\", 5)[1])\nax[1].scatter(grid_050_050.coords_norm[grid_050_050.grid_LHS.n_grid:, 0],\n              grid_050_050.coords_norm[grid_050_050.grid_LHS.n_grid:, 1],\n              color=sns.color_palette(\"pastel\", 5)[1], edgecolor=\"k\", alpha=0.75)\nax[2].scatter(grid_075_025.coords_norm[:grid_075_025.grid_LHS.n_grid, 0],\n              grid_075_025.coords_norm[:grid_075_025.grid_LHS.n_grid, 1],\n              color=sns.color_palette(\"bright\", 5)[2])\nax[2].scatter(grid_075_025.coords_norm[grid_075_025.grid_LHS.n_grid:, 0],\n              grid_075_025.coords_norm[grid_075_025.grid_LHS.n_grid:, 1],\n              color=sns.color_palette(\"pastel\", 5)[2], edgecolor=\"k\", alpha=0.75)\n\ntitle = ['LHS-L1 (weights: [0.25, 0.75])', 'LHS-L1 (weights: [0.50, 0.50])', 'LHS-L1 (weights: [0.75, 0.25])']\n\nfor i in range(len(ax)):\n    ax[i].set_xlabel(\"$x_1$\", fontsize=12)\n    ax[i].set_ylabel(\"$x_2$\", fontsize=12)\n    ax[i].set_xticks(np.linspace(-1, 1, 5))\n    ax[i].set_yticks(np.linspace(-1, 1, 5))\n    ax[i].set_xlim([-1, 1])\n    ax[i].set_ylim([-1, 1])\n    ax[i].set_title(title[i])\n    ax[i].grid()\n    ax[i].legend([\"LHS\", \"L1\"], loc=1, fontsize=9, framealpha=1, facecolor=[0.95, 0.95, 0.95])\n\nplt.tight_layout()"
      ]
    },
    {
      "cell_type": "markdown",
      "metadata": {},
      "source": [
        "The sampling method can be selected accordingly for each gPC algorithm by setting the following options\nwhen setting up the algorithm:\n\n"
      ]
    },
    {
      "cell_type": "code",
      "execution_count": null,
      "metadata": {
        "collapsed": false
      },
      "outputs": [],
      "source": [
        "options = dict()\n...\noptions[\"grid\"] = pygpc.LHS_L1\noptions[\"grid_options\"] = {\"seed\": None,\n                           \"weights\": [0.75, 0.25],\n                           \"method\": \"greedy\",\n                           \"criterion\": [\"mc\", \"cc\"],\n                           \"n_pool\": 1000}\n...\n\n# When using Windows you need to encapsulate the code in a main function and insert an\n# if __name__ == '__main__': guard in the main module to avoid creating subprocesses recursively:\n#\n# if __name__ == '__main__':\n#     main()"
      ]
    }
  ],
  "metadata": {
    "kernelspec": {
      "display_name": "Python 3",
      "language": "python",
      "name": "python3"
    },
    "language_info": {
      "codemirror_mode": {
        "name": "ipython",
        "version": 3
      },
      "file_extension": ".py",
      "mimetype": "text/x-python",
      "name": "python",
      "nbconvert_exporter": "python",
      "pygments_lexer": "ipython3",
      "version": "3.8.5"
    }
  },
  "nbformat": 4,
  "nbformat_minor": 0
}