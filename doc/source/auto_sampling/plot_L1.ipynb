{
  "cells": [
    {
      "cell_type": "code",
      "execution_count": null,
      "metadata": {
        "collapsed": false
      },
      "outputs": [],
      "source": [
        "%matplotlib inline"
      ]
    },
    {
      "cell_type": "markdown",
      "metadata": {},
      "source": [
        "\n# L1 optimal sampling\nAdd a description here about the criteria [\"mc\"] and [\"tmc\", \"cc\"]\nand the 2 methods to create such a grid \"greedy\", \"iter\"\n\n## Example\nIn order to create a grid of sampling points, we have to define the random parameters and create a gpc object.\n"
      ]
    },
    {
      "cell_type": "code",
      "execution_count": null,
      "metadata": {
        "collapsed": false
      },
      "outputs": [],
      "source": [
        "import pygpc\nimport numpy as np\nimport seaborn as sns\nimport matplotlib.pyplot as plt\nfrom collections import OrderedDict\n\n# define model\nmodel = pygpc.testfunctions.RosenbrockFunction()\n\n# define parameters\nparameters = OrderedDict()\nparameters[\"x1\"] = pygpc.Beta(pdf_shape=[1, 1], pdf_limits=[-np.pi, np.pi])\nparameters[\"x2\"] = pygpc.Beta(pdf_shape=[1, 1], pdf_limits=[-np.pi, np.pi])\n\n# define problem\nproblem = pygpc.Problem(model, parameters)\n\n# create gpc object\ngpc = pygpc.Reg(problem=problem,\n                order=[5]*problem.dim,\n                order_max=5,\n                order_max_norm=1,\n                interaction_order=2,\n                interaction_order_current=2,\n                options=None,\n                validation=None)"
      ]
    },
    {
      "cell_type": "markdown",
      "metadata": {},
      "source": [
        "L1 designs with different optimization criteria can be created using the \"criterion\" argument in the options\ndictionary. In the following, we are going to create different L1 designs for 2 random variables with 200\nsampling points:\n\n"
      ]
    },
    {
      "cell_type": "code",
      "execution_count": null,
      "metadata": {
        "collapsed": false
      },
      "outputs": [],
      "source": [
        "grid_mc = pygpc.L1(parameters_random=parameters,\n                   n_grid=200,\n                   gpc=gpc,\n                   options={\"criterion\": [\"mc\"],\n                            \"method\": \"greedy\",\n                            \"n_pool\": 1000,\n                            \"seed\": None})\n\ngrid_mc_cc = pygpc.L1(parameters_random=parameters,\n                      n_grid=100,\n                      gpc=gpc,\n                      options={\"criterion\": [\"tmc\", \"cc\"],\n                               \"method\": \"greedy\",\n                               \"n_pool\": 1000,\n                               \"seed\": None})\n\ngrid_tmc_cc = pygpc.L1(parameters_random=parameters,\n                       n_grid=100,\n                       gpc=gpc,\n                       options={\"criterion\": [\"tmc\", \"cc\"],\n                                \"method\": \"greedy\",\n                                \"n_pool\": 1000,\n                                \"seed\": None})"
      ]
    },
    {
      "cell_type": "markdown",
      "metadata": {},
      "source": [
        "The following options are available for L1-optimal grids:\n\n- seed: set a seed to reproduce the results (default: None)\n- method:\n   - \"greedy\": greedy algorithm (default, recommended)\n   - \"iter\": iterative algorithm (faster but does not perform as good as \"greedy\")\n- criterion:\n   - [\"mc\"]: mutual coherence optimal#\n   - [\"mc\", \"cc\"]: mutual coherence and cross correlation optimal\n   - [\"tmc\", \"cc\"]: t-averaged mutual coherence and cross correlation optimal\n- n_pool: number of grid points in overall pool to select optimal points from (default: 10.000)\n\nThe grid points are distributed as follows (in the normalized space):\n\n"
      ]
    },
    {
      "cell_type": "code",
      "execution_count": null,
      "metadata": {
        "collapsed": false
      },
      "outputs": [],
      "source": [
        "fig, ax = plt.subplots(nrows=1, ncols=3, squeeze=True, figsize=(9.53, 3.2))\n\nax[0].scatter(grid_mc.coords_norm[:, 0], grid_mc.coords_norm[:, 1],\n              color=sns.color_palette(\"bright\", 5)[0])\nax[1].scatter(grid_mc_cc.coords_norm[:, 0], grid_mc_cc.coords_norm[:, 1],\n              color=sns.color_palette(\"bright\", 5)[1])\nax[2].scatter(grid_tmc_cc.coords_norm[:, 0], grid_tmc_cc.coords_norm[:, 1],\n              color=sns.color_palette(\"bright\", 5)[2])\n\ntitle = ['L1 (mc)', 'L1 (mc, cc)', 'L1 (tmc-cc)']\n\nfor i in range(len(ax)):\n    ax[i].set_xlabel(\"$x_1$\", fontsize=12)\n    ax[i].set_ylabel(\"$x_2$\", fontsize=12)\n    ax[i].set_xticks(np.linspace(-1, 1, 5))\n    ax[i].set_yticks(np.linspace(-1, 1, 5))\n    ax[i].set_xlim([-1, 1])\n    ax[i].set_ylim([-1, 1])\n    ax[i].set_title(title[i])\n    ax[i].grid()\n\nplt.tight_layout()"
      ]
    },
    {
      "cell_type": "markdown",
      "metadata": {},
      "source": [
        "The sampling method can be selected accordingly for each gPC algorithm by setting the following options\nwhen setting up the algorithm:\n\n"
      ]
    },
    {
      "cell_type": "code",
      "execution_count": null,
      "metadata": {
        "collapsed": false
      },
      "outputs": [],
      "source": [
        "options = dict()\n...\noptions[\"grid\"] = pygpc.L1\noptions[\"grid_options\"] = {\"seed\": None,\n                           \"method\": \"greedy\",\n                           \"criterion\": [\"mc\", \"cc\"],\n                           \"n_pool\": 1000}\n...\n\n# When using Windows you need to encapsulate the code in a main function and insert an\n# if __name__ == '__main__': guard in the main module to avoid creating subprocesses recursively:\n#\n# if __name__ == '__main__':\n#     main()"
      ]
    }
  ],
  "metadata": {
    "kernelspec": {
      "display_name": "Python 3",
      "language": "python",
      "name": "python3"
    },
    "language_info": {
      "codemirror_mode": {
        "name": "ipython",
        "version": 3
      },
      "file_extension": ".py",
      "mimetype": "text/x-python",
      "name": "python",
      "nbconvert_exporter": "python",
      "pygments_lexer": "ipython3",
      "version": "3.8.5"
    }
  },
  "nbformat": 4,
  "nbformat_minor": 0
}