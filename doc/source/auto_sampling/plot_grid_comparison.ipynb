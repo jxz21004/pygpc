{
  "cells": [
    {
      "cell_type": "code",
      "execution_count": null,
      "metadata": {
        "collapsed": false
      },
      "outputs": [],
      "source": [
        "%matplotlib inline"
      ]
    },
    {
      "cell_type": "markdown",
      "metadata": {},
      "source": [
        "\n# Comparison of sampling schemes\n\nFor evaluating the efficiency of the sampling schemes in pygpc we\ncompared L1 optimal sampling schemes, LHS sampling schemes and random sampling. The analysis was\nperformed in the context of L1 minimization using the least-angle regression algorithm to fit the gPC\nregression models (using the LARS-solver from scipy). The sampling schemes were investigated by evaluating the quality of\nthe constructed surrogate models considering distinct test cases representing different problem classes\ncovering low, medium and high dimensional problems as well as on\nan application example to estimate the sensitivity of the self-impedance of a probe, which is used to\nmeasure the impedance of biological tissues at different frequencies. Due to the random nature, we\ncompared the sampling schemes using statistical stability measures and evaluated the success rates\nto construct a surrogate model with an accuracy of < 0.1\\%. We observed strong differences in the\nconvergence properties of the methods between the analyzed test functions. One of the test cases was the Ishigami\nfunction, where the results are reported in the following.\n\n .. image:: ../../../examples/images/Testfunctions_table.png\n     :width: 550\n     :align: center\n\n## Benchmark on the Ishigami function\n\nOne of the testcases for different grids was the Ishigami function, which is already implemented in pygpc.\n"
      ]
    },
    {
      "cell_type": "code",
      "execution_count": null,
      "metadata": {
        "collapsed": false
      },
      "outputs": [],
      "source": [
        "import numpy as np\nfrom pygpc.testfunctions import plot_testfunction as plot\nfrom collections import OrderedDict\n\nparameters = OrderedDict()\nparameters[\"x1\"] = np.linspace(-np.pi, np.pi, 100)\nparameters[\"x2\"] = np.linspace(-np.pi, np.pi, 100)\n\nconstants = OrderedDict()\nconstants[\"a\"] = 7.\nconstants[\"b\"] = 0.1\nconstants[\"x3\"] = 0.\n\nplot(\"Ishigami\", parameters, constants, plot_3d=False)"
      ]
    },
    {
      "cell_type": "markdown",
      "metadata": {},
      "source": [
        "Because of their random nature, we compared the grid repeatedly by using N=30 repetition. For every grid instance\nand sampling number we recorded the normalized root mean squared deviation (NRMSD) of the gPC approximations compared\nto the original model.\n\n<img src=\"file://../../../examples/images/Ishigami_nrmsd.png\" width=\"1400\" align=\"center\">\n\nIn this figure the sampling designs are abbreviated as follows:\n\n- **STD** - standard LHS sampling\n- **MM** - maximin LHS sampling\n- **SC-ESE** - LHS sampling using enhanced stochastic evolutionary algorithm\n- **MC** - mutual coherence optimal L1 sampling\n- **MC-CC** - mutual coherence and average cross correlation optimal L1 sampling\n- **CO** - coherence optimal L1 sampling\n- **D** - $D$ optimal sampling\n- **D-COH** - $D$ and coherence optimal sampling\n\nWe evaluated the relative performance of the sampling schemes with respect to standard random sampling over four\ntest cases. The Ishigami and the Rosenbrock\nfunction serve as well known test cases and the LPP (Linear-Paired-Product) function is a high dimensional test\nfunction with 30 random variables. The Electrode impedance model is a practical example.\nIn the following table the relative and the average number of grid points\n$\\hat{N}_{\\varepsilon}$ of the different sampling schemes to reach an NRMSD of 10\u22123 with respect to standard\nrandom sampling is shown. The columns for $N_{sr}^{(95\\%)}$ and $N_{sr}^{(99\\%)}$ show the number\nof samples needed to reach a success rate of 95% and 99% respectively.\n\n<img src=\"file://../../../examples/images/Average_table_pygpc.png\" width=\"900\" align=\"center\">\n\nMore details about the comparison can be found in [1].\n\n## References\n.. [1] Weise, K., M\u00fcller, E., Po\u00dfner, L., Kn\u00f6sche, T. R., Comparison of the performance and reliability between improved sampling\n   strategies for polynomial chaos expansion, AIMS Mathematical Biosciences and Engineering, 2022.\n"
      ]
    }
  ],
  "metadata": {
    "kernelspec": {
      "display_name": "Python 3",
      "language": "python",
      "name": "python3"
    },
    "language_info": {
      "codemirror_mode": {
        "name": "ipython",
        "version": 3
      },
      "file_extension": ".py",
      "mimetype": "text/x-python",
      "name": "python",
      "nbconvert_exporter": "python",
      "pygments_lexer": "ipython3",
      "version": "3.7.3"
    }
  },
  "nbformat": 4,
  "nbformat_minor": 0
}