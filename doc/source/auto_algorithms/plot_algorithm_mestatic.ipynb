{
  "cells": [
    {
      "cell_type": "code",
      "execution_count": null,
      "metadata": {
        "collapsed": false
      },
      "outputs": [],
      "source": [
        "%matplotlib inline"
      ]
    },
    {
      "cell_type": "markdown",
      "metadata": {},
      "source": [
        "\nAlgorithm: MEStatic\n===================\n"
      ]
    },
    {
      "cell_type": "code",
      "execution_count": null,
      "metadata": {
        "collapsed": false
      },
      "outputs": [],
      "source": [
        "import pygpc\nfrom collections import OrderedDict\n\nfn_results = 'tmp/mestatic'       # filename of output\nsave_session_format = \".hdf5\"     # file format of saved gpc session \".hdf5\" (slow) or \".pkl\" (fast)"
      ]
    },
    {
      "cell_type": "markdown",
      "metadata": {},
      "source": [
        "Loading the model and defining the problem\n------------------------------------------\n\n"
      ]
    },
    {
      "cell_type": "code",
      "execution_count": null,
      "metadata": {
        "collapsed": false
      },
      "outputs": [],
      "source": [
        "# define model\nmodel = pygpc.testfunctions.SurfaceCoverageSpecies()\n\n# define problem\nparameters = OrderedDict()\nparameters[\"rho_0\"] = pygpc.Beta(pdf_shape=[1, 1], pdf_limits=[0, 1])\nparameters[\"beta\"] = pygpc.Beta(pdf_shape=[1, 1], pdf_limits=[0, 20])\nparameters[\"alpha\"] = 1.\nproblem = pygpc.Problem(model, parameters)"
      ]
    },
    {
      "cell_type": "markdown",
      "metadata": {},
      "source": [
        "Setting up the algorithm\n------------------------\n\n"
      ]
    },
    {
      "cell_type": "code",
      "execution_count": null,
      "metadata": {
        "collapsed": false
      },
      "outputs": [],
      "source": [
        "# gPC options\noptions = dict()\noptions[\"method\"] = \"reg\"\noptions[\"solver\"] = \"Moore-Penrose\"\noptions[\"settings\"] = None\noptions[\"order\"] = [10, 10]\noptions[\"order_max\"] = 10\noptions[\"interaction_order\"] = 2\noptions[\"matrix_ratio\"] = 2\noptions[\"n_cpu\"] = 0\noptions[\"gradient_enhanced\"] = True\noptions[\"gradient_calculation\"] = \"FD_2nd\"\noptions[\"gradient_calculation_options\"] = {\"dx\": 0.05, \"distance_weight\": -2}\noptions[\"error_type\"] = \"loocv\"\noptions[\"qoi\"] = \"all\"\noptions[\"n_grid_gradient\"] = 5\noptions[\"classifier\"] = \"learning\"\noptions[\"classifier_options\"] = {\"clusterer\": \"KMeans\",\n                                 \"n_clusters\": 2,\n                                 \"classifier\": \"MLPClassifier\",\n                                 \"classifier_solver\": \"lbfgs\"}\noptions[\"fn_results\"] = fn_results\noptions[\"save_session_format\"] = save_session_format\noptions[\"grid\"] = pygpc.Random\noptions[\"grid_options\"] = None\n\n# generate grid\ngrid = pygpc.Random(parameters_random=problem.parameters_random,\n                    n_grid=1000,  # options[\"matrix_ratio\"] * n_coeffs\n                    seed=1)\n\n# define algorithm\nalgorithm = pygpc.MEStatic(problem=problem, options=options, grid=grid)"
      ]
    },
    {
      "cell_type": "markdown",
      "metadata": {},
      "source": [
        "Running the gpc\n---------------\n\n"
      ]
    },
    {
      "cell_type": "code",
      "execution_count": null,
      "metadata": {
        "collapsed": false
      },
      "outputs": [],
      "source": [
        "# Initialize gPC Session\nsession = pygpc.Session(algorithm=algorithm)\n\n# run gPC algorithm\nsession, coeffs, results = session.run()"
      ]
    },
    {
      "cell_type": "markdown",
      "metadata": {},
      "source": [
        "Postprocessing\n--------------\n\n"
      ]
    },
    {
      "cell_type": "code",
      "execution_count": null,
      "metadata": {
        "collapsed": false
      },
      "outputs": [],
      "source": [
        "# read session\nsession = pygpc.read_session(fname=session.fn_session, folder=session.fn_session_folder)\n\n# Post-process gPC\npygpc.get_sensitivities_hdf5(fn_gpc=options[\"fn_results\"],\n                             output_idx=None,\n                             calc_sobol=True,\n                             calc_global_sens=True,\n                             calc_pdf=True,\n                             algorithm=\"sampling\",\n                             n_samples=1e3)"
      ]
    },
    {
      "cell_type": "markdown",
      "metadata": {},
      "source": [
        "Validation\n----------\nValidate gPC vs original model function (2D-surface)\n^^^^^^^^^^^^^^^^^^^^^^^^^^^^^^^^^^^^^^^^^^^^^^^^^^^^\n\n"
      ]
    },
    {
      "cell_type": "code",
      "execution_count": null,
      "metadata": {
        "collapsed": false
      },
      "outputs": [],
      "source": [
        "pygpc.validate_gpc_plot(session=session,\n                        coeffs=coeffs,\n                        random_vars=list(problem.parameters_random.keys()),\n                        n_grid=[51, 51],\n                        output_idx=[0],\n                        fn_out=None,\n                        folder=None,\n                        n_cpu=session.n_cpu)"
      ]
    },
    {
      "cell_type": "markdown",
      "metadata": {},
      "source": [
        "Validate gPC vs original model function (Monte Carlo)\n^^^^^^^^^^^^^^^^^^^^^^^^^^^^^^^^^^^^^^^^^^^^^^^^^^^^^\n\n"
      ]
    },
    {
      "cell_type": "code",
      "execution_count": null,
      "metadata": {
        "collapsed": false
      },
      "outputs": [],
      "source": [
        "nrmsd = pygpc.validate_gpc_mc(session=session,\n                              coeffs=coeffs,\n                              n_samples=int(1e4),\n                              output_idx=[0],\n                              fn_out=None,\n                              folder=None,\n                              plot=True,\n                              n_cpu=session.n_cpu)\n\nprint(\"> Maximum NRMSD (gpc vs original): {:.2}%\".format(max(nrmsd)))"
      ]
    }
  ],
  "metadata": {
    "kernelspec": {
      "display_name": "Python 3",
      "language": "python",
      "name": "python3"
    },
    "language_info": {
      "codemirror_mode": {
        "name": "ipython",
        "version": 3
      },
      "file_extension": ".py",
      "mimetype": "text/x-python",
      "name": "python",
      "nbconvert_exporter": "python",
      "pygments_lexer": "ipython3",
      "version": "3.7.3"
    }
  },
  "nbformat": 4,
  "nbformat_minor": 0
}