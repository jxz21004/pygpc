{
  "cells": [
    {
      "cell_type": "code",
      "execution_count": null,
      "metadata": {
        "collapsed": false
      },
      "outputs": [],
      "source": [
        "%matplotlib inline"
      ]
    },
    {
      "cell_type": "markdown",
      "metadata": {},
      "source": [
        "\nParallel processing capabilities of pygpc\n=========================================\n\npygpc is capable of to evaluate multiple sampling points, i.e. multiple model instances, in parallel.\nDepending on your model and its hardware requirements there exist three ways to evaluate your model\ncontrolled by the algorithm options \"n_cpu\":\n\n- n_cpu = 0 : Use this option if your model is capable of to evaluate sampling points in parallel. In this way,\n  arrays are passed to your model for each parameter\n- n_cpu = 1 : The model is called in serial for every sampling point. A single floating point number is passed for\n  each parameter.\n- n_cpu > 1 : A multiprocessing.Pool will be opened and n_cpu sampling points are calculated in parallel.\n  In each thread, a single floating point number is passed for each parameter.\n"
      ]
    },
    {
      "cell_type": "markdown",
      "metadata": {},
      "source": [
        "Example\n^^^^^^^\n\n"
      ]
    },
    {
      "cell_type": "code",
      "execution_count": null,
      "metadata": {
        "collapsed": false
      },
      "outputs": [],
      "source": [
        "import time\nimport pygpc\nimport numpy as np\nimport multiprocessing\nimport seaborn as sns\nfrom matplotlib import pyplot as plt\nfrom collections import OrderedDict\n\nSurfaceCoverageSpecies = pygpc.SurfaceCoverageSpecies()\n\n# generate grid with 1000 sampling points\ngrid = pygpc.Random(parameters_random=SurfaceCoverageSpecies.problem.parameters_random, n_grid=100)\n\n# define different values for n_cpu\nn_cpu_list = [0, 1, multiprocessing.cpu_count()]\n\nt_eval = dict()\n\n# evaluate model with different values for n_cpu\nfor n_cpu in n_cpu_list:\n    # initialize computation class; this is done in the algorithm with options[\"n_cpu\"]\n    com = pygpc.Computation(n_cpu=n_cpu)\n\n    # run model and determine computation time\n    t_n_cpu = []\n\n    start = time.time()\n    res = com.run(model=SurfaceCoverageSpecies.model, problem=SurfaceCoverageSpecies.problem, coords=grid.coords)\n    stop = time.time()\n\n    t_eval[str(n_cpu)] = stop - start\n\n# plot results\nplt.figure(figsize=[4, 4])\nfor ind, t in enumerate(t_eval):\n    plt.bar(ind, t_eval[t], color=sns.color_palette(\"pastel\", len(t_eval))[ind])\n\nplt.xlabel(\"n_cpu\", fontsize=11)\nplt.ylabel(\"Computation time in s\", fontsize=11)\nplt.xticks(range(len(t_eval)), t_eval.keys())\nplt.title(\"Parallel model evaluation\", fontsize=12)\nplt.tight_layout()"
      ]
    }
  ],
  "metadata": {
    "kernelspec": {
      "display_name": "Python 3",
      "language": "python",
      "name": "python3"
    },
    "language_info": {
      "codemirror_mode": {
        "name": "ipython",
        "version": 3
      },
      "file_extension": ".py",
      "mimetype": "text/x-python",
      "name": "python",
      "nbconvert_exporter": "python",
      "pygments_lexer": "ipython3",
      "version": "3.7.3"
    }
  },
  "nbformat": 4,
  "nbformat_minor": 0
}