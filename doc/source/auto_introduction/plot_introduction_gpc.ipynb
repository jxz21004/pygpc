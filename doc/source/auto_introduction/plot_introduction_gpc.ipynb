{
  "cells": [
    {
      "cell_type": "code",
      "execution_count": null,
      "metadata": {
        "collapsed": false
      },
      "outputs": [],
      "source": [
        "%matplotlib inline"
      ]
    },
    {
      "cell_type": "markdown",
      "metadata": {},
      "source": [
        "\nIntroduction to generalized Polynomial Chaos (gPC)\n==================================================\n\nThe primary focus of this tutorial rests on spectral methods, which are based on the determination of a \nfunctional dependence between the probabilistic in- and output of a system by means of a series of suitable \nselected functionals. The practical realization of spectral methods can be further subdivided into *intrusive* \nand **non-intrusive** approaches. Intrusive approaches are based on Galerkin methods, where the governing \nequations have to be modified to incorporate the probabilistic character of the model parameters. \nThis includes the determination of the stochastic weak form of the problem according to the given \nuncertainties (Le Maitre, 2010). On the contrary,  non-intrusive approaches are based on a reduced\nsampling of the probability space without any modification of the deterministic solvers. Those methods \nare more flexible and thus more suitable for universal application. Typical applications can be found \nin the fields of computational fluid dynamics (Knio and Le Maitre, 2006; Xiu, 2003; Hosder et al., 2006), heat transfer\n(Wan et al., 2004; Xiu and Karniadakis, 2003), multibody dynamics (Sandu et al., 2006a, Sandu et al. 2006b),\nrobust design optimization (Zein, 2013) or in biomedical engineering (Saturnino et al., 2019; Weise et al. 2015;\nCodecasa et al., 2016).\nDuring the last years, spectral approaches are becoming increasingly popular. However, those are not a reference\ntool yet and still unknown for many people. For that reason, particular emphasis is placed to \ndescribe the method and to further elucidate the principle by means of examples.\n\nThe gPC expansion\n^^^^^^^^^^^^^^^^^\nThe basic concept of the gPC is to find a functional dependence between the random variables ${\\xi}$ \nand the solutions $y(\\mathbf{r},{\\xi})$ by means of an orthogonal polynomial basis $\\Psi({\\xi})$. \nIn its general form, it is given by: \n\n\\begin{align}y(\\mathbf{r},{\\xi}) = \\sum_{\\mathbf{\\alpha}\\in\\mathcal{A}(\\mathbf{p})}\n    u_{\\mathbf{\\alpha}}(\\mathbf{r}) \\Psi_{\\mathbf{\\alpha}}({\\xi}).\\end{align}\n\n\nThe terms are indexed by the multi-index  $\\mathbf{\\alpha}=(\\alpha_0,...,\\alpha_{d-1})$, which is a \n`d`-tuple of non-negative integers $\\mathbf{\\alpha}\\in\\mathbb{N}_0^d$. The sum is carried out over \nthe multi-indices, contained in the set $\\mathcal{A}(\\mathbf{p})$. The composition of the set depends \non the type of expansion and is parameterized by a parameter vector $\\mathbf{p}$, which will be \nexplained in a later part of this section.\n\nThe function $\\Psi_{\\mathbf{\\alpha}}({\\xi})$ are the joint polynomial basis functions of the gPC. \nThey are composed of polynomials $\\psi_{\\alpha_i}(\\xi_i)$.\n\n\\begin{align}\\Psi_{\\mathbf{\\alpha}}({\\xi}) = \\prod_{i=1}^{d} \\psi_{\\alpha_i}(\\xi_i)\\end{align}\n\n\nThe polynomials $\\psi_{\\alpha_i}(\\xi_i)$ are defined for each random variable separately according \nto the corresponding pdf $p_i(\\xi_i)$. They have to be chosen to ensure orthogonality. The set of \npolynomials for an optimal basis of continuous probability distributions is derived from the Askey \nscheme (Askey and Wilson, 1985). The index of the polynomials denotes its order (or degree). In this way, the\nmulti-index $\\mathbf{\\alpha}$ corresponds to the order of the individual basis functions forming \nthe joint basis function.\n\n+-----------+--------------+------------------------+-----------------------------+\n| Type      | Distribution | Orthogonal polynomials | Range                       |\n+===========+==============+========================+=============================+\n|continuous | uniform      | Legendre               | $(a,b)$               |\n+-----------+--------------+------------------------+-----------------------------+\n|continuous | beta         | Jacobi                 | $(a,b)$               |\n+-----------+--------------+------------------------+-----------------------------+\n|continuous | gaussian     | Hermite                | $(-\\infty,+\\infty)$   |\n+-----------+--------------+------------------------+-----------------------------+\n|continuous | gamma        | Laguerre               | $(0,+\\infty)$         |\n+-----------+--------------+------------------------+-----------------------------+\n| discrete  | poisson      | Charlier               | $(0,1,...)$           |\n+-----------+--------------+------------------------+-----------------------------+\n\nReferences\n^^^^^^^^^^\n.. [1] Le Maitre, O., and Knio, O. M. (2010). Spectral methods for uncertainty quantification: with applications\n   to computational fluid dynamics. Springer Science & Business Media.\n\n.. [2] Knio, O. M., & Le Maitre, O. P. (2006). Uncertainty propagation in CFD using polynomial chaos decomposition.\n   Fluid dynamics research, 38(9), 616.\n\n.. [3] Xiu, D., & Karniadakis, G. E. (2003). Modeling uncertainty in flow simulations via generalized polynomial chaos.\n   Journal of computational physics, 187(1), 137-167.\n\n.. [4] Hosder, S., Walters, R., & Perez, R. (2006). A non-intrusive polynomial chaos method for uncertainty\n   propagation in CFD simulations. In 44th AIAA aerospace sciences meeting and exhibit (p. 891).\n\n.. [5] Wan, X., Xiu, D., & Karniadakis, G. E. (2004). Modeling uncertainty in three-dimensional heat transfer problems.\n   WIT Transactions on Engineering Sciences, 46.\n\n.. [6] Xiu, D., & Karniadakis, G. E. (2003). A new stochastic approach to transient heat conduction modeling\n   with uncertainty. International Journal of Heat and Mass Transfer, 46(24), 4681-4693.\n\n.. [7] Sandu, A., Sandu, C., & Ahmadian, M. (2006). Modeling multibody systems with uncertainties.\n   Part I: Theoretical and computational aspects. Multibody System Dynamics, 15(4), 369-391.\n\n.. [8] Sandu, C., Sandu, A., & Ahmadian, M. (2006). Modeling multibody systems with uncertainties.\n   Part II: Numerical applications. Multibody System Dynamics, 15(3), 241-262.\n\n.. [9] Zein, S. (2013). A polynomial chaos expansion trust region method for robust optimization.\n   Communications in Computational Physics, 14(2), 412-424.\n\n.. [10] Saturnino, G. B., Thielscher, A., Madsen, K. H., Kn\u00f6sche, T. R., & Weise, K. (2019). A principled approach to\n   conductivity uncertainty analysis in electric field calculations. Neuroimage, 188, 821-834.\n\n.. [11] Weise, K., Di Rienzo, L., Brauer, H., Haueisen, J., & Toepfer, H. (2015). Uncertainty analysis in\n   transcranial magnetic stimulation using nonintrusive polynomial chaos expansion.\n   IEEE Transactions on Magnetics, 51(7), 1-8.\n\n.. [12] Codecasa, L., Di Rienzo, L., Weise, K., Gross, S., & Haueisen, J. (2015). Fast MOR-based approach to\n   uncertainty quantification in transcranial magnetic stimulation. IEEE Transactions on Magnetics, 52(3), 1-4.\n\n.. [13] Weise, K., Numssen, O., Thielscher, A., Hartwigsen, G., & Kn\u00f6sche, T. R. (2020).\n   A novel approach to localize cortical TMS effects. NeuroImage, 209, 116486.\n\n.. [14] Askey, R., & Wilson, J. A. (1985). Some basic hypergeometric orthogonal polynomials\n   that generalize Jacobi polynomials (Vol. 319). American Mathematical Soc..\n"
      ]
    }
  ],
  "metadata": {
    "kernelspec": {
      "display_name": "Python 3",
      "language": "python",
      "name": "python3"
    },
    "language_info": {
      "codemirror_mode": {
        "name": "ipython",
        "version": 3
      },
      "file_extension": ".py",
      "mimetype": "text/x-python",
      "name": "python",
      "nbconvert_exporter": "python",
      "pygments_lexer": "ipython3",
      "version": "3.7.3"
    }
  },
  "nbformat": 4,
  "nbformat_minor": 0
}