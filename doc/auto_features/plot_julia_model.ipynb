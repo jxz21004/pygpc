{
  "cells": [
    {
      "cell_type": "code",
      "execution_count": null,
      "metadata": {
        "collapsed": false
      },
      "outputs": [],
      "source": [
        "%matplotlib inline"
      ]
    },
    {
      "cell_type": "markdown",
      "metadata": {},
      "source": [
        "\n# Analyzing Julia models with pygpc\n\nYou can easily analyze your models written in Julia with pygpc. In order to do so, you have to\ninstall the Julia API for Python.\n"
      ]
    },
    {
      "cell_type": "code",
      "execution_count": null,
      "metadata": {
        "collapsed": false
      },
      "outputs": [],
      "source": [
        "import matplotlib.pyplot as plt\n\n_ = plt.figure(figsize=[15, 7])\n_ = plt.imshow(plt.imread(\"../images/python_julia_interface.png\"))\n_ = plt.axis('off')"
      ]
    },
    {
      "cell_type": "markdown",
      "metadata": {},
      "source": [
        "## Install Julia API for Python\nIf not already done, install Julia (https://julialang.org) and Python (https://www.python.org/).\nAfter installation is finished, the dependency *PyCall* needs to be installed in Julia.\nOpen Julia and enter the following:\n\n**Withing Julia**\n\n```julia\nimport Pkg\nPkg.install(\"PyCall\")\n```\nIn Python you need to download and install the Julia package from pip for example:\n\n```bash\npip install julia\n```\nThen open Python and install the Julia dependency (this should work if PyCall was installed beforehand):\n\n**Withing Python**\n\n```python\nimport julia\njulia.install()\n```\nAfter installation is finished, you can set:\n\n```python\noptions[\"julia_model\"] = True\n```\nin the gPC options section of your gPC run-file.\n\n## Setting up the Julia model\nSetting up the model in Julia is straight forward. You simply have to define your model as a julia function\nwithin an .jl file. In the following, you see an example model .jl file:\n\n```julia\n# Three-dimensional test function of Ishigami\nfunction Ishigami(x1, x2, x3, a, b)\nreturn sin.(x1) .- a .* sin.(x1).^2 .+ b .* x3.^4 .* sin.(x1)\nend\n```\nIf the Julia model requires the usage of Julia libraries a Julia environment needs to be created and loaded during the\ncall from python. The environment can be created inside Julia where libraries can be installed afterwards.\n\n```julia\nimport Pkg\nPkg.activate(\" directory of .jl file / folder name of environment \")\nPkg.install(\" library name \")\n```\n## Accessing the model within pypgc\nIn order to call the Julia function within pygpc, we have to set up a corresponding python model as shown below.\nDuring initialization we pass the function name *fname_julia*, which tells pygpc where to find the model .jl\nfunction. During computation, pygpc accesses the Julia function.\n\nThe example shown below can be found in the templates folder of pygpc ([/templates/MyModel_julia.py](../../templates/MyModel_julia.py)). In particular, you can find an example model-file in\n:code:`.../templates/MyModel_julia.py` and the associated gPC run-file in :code:`.../templates/MyGPC_julia.py`.\n\nA detailed example is given in `Example: Lorenz system of differential equations (Julia)`.\n\n```python\nimport inspect\nimport numpy as np\nfrom julia import Main\nfrom pygpc.AbstractModel import AbstractModel\n\n\nclass MyModel_julia(AbstractModel):\n    \"\"\"\n    MyModel evaluates something by loading a Julia file that contains a function. The parameters\n    of the model (constants and random parameters) are stored in the dictionary p. Their type is\n    defined during the problem definition.\n\n    Parameters\n    ----------\n    fname_julia : str\n        Filename of julia function\n    p[\"x1\"] : float or ndarray of float [n_grid]\n        Parameter 1\n    p[\"x2\"] : float or ndarray of float [n_grid]\n        Parameter 2\n    p[\"x3\"] : float or ndarray of float [n_grid]\n        Parameter 3\n    p[\"a\"] : float\n        shape parameter (a=7)\n    p[\"b\"] : float\n        shape parameter (b=0.1)\n\n    Returns\n    -------\n    y : ndarray of float [n_grid x n_out]\n        Results of the n_out quantities of interest the gPC is conducted for\n    additional_data : dict or list of dict [n_grid]\n        Additional data, will be saved under its keys in the .hdf5 file during gPC simulations.\n        If multiple grid-points are evaluated in one function call, return a dict for every\n        grid-point in a list\n    \"\"\"\n\n    def __init__(self, fname_julia=None):\n        if fname_julia is not None:\n            self.fname_julia = fname_julia                          # filename of julia function\n        self.fname = inspect.getfile(inspect.currentframe())        # filename of python function\n\n    def validate(self):\n        pass\n\n    def simulate(self, process_id=None, matlab_engine=None):\n\n        x1 = self.p[\"x1\"]\n        x2 = self.p[\"x2\"]\n        x3 = self.p[\"x3\"]\n        a = self.p[\"a\"]\n        b = self.p[\"b\"]\n\n        # access .jl file\n        Main.fname_julia = self.fname_julia\n        Main.include(Main.fname_julia)\n\n        # call Julia function\n        y = Main.Ishigami(x1, x2, x3, a, b)\n\n        if y.ndim == 0:\n            y = np.array([[y]])\n        elif y.ndim == 1:\n            y = y[:, np.newaxis]\n\n        return y\n```\nTo enable libraries via an existing environment folder as described above use :code:`Main.eval('import Pkg')` and\n:code:`Main.eval('Pkg.activate(\" folder name of environment \")')` before including the .jl file. If the environment\nfolder is not in the same place as the .jl file the complete path is needed for this call as well.\n\n## Performance Tip\nYou can easily vectorize basic Julia operations like (+, -, etc.) by appending a dot before them: :code:`.+`,\n:code:`.-`, etc. as shown in the function above. This can even be extended to entire functions by appending the\ndot after it: :code:`y = function_name(args).`. With that the function should be able to process arrays for the\ninput parameters passed in the dictionary *p*. And if that is the case you can set the algorithm option:\n\n"
      ]
    },
    {
      "cell_type": "code",
      "execution_count": null,
      "metadata": {
        "collapsed": false
      },
      "outputs": [],
      "source": [
        "options = dict()\n\n# ...\noptions[\"n_cpu\"] = 0\n# ..."
      ]
    },
    {
      "cell_type": "markdown",
      "metadata": {},
      "source": [
        "To enable parallel processing in pygpc. In this way, multiple sampling points are passed to the function\nand processed in parallel, which speeds up your gPC analysis. A more detailed description about the parallel\nprocessing capabilities of pygpc is given in this\n[example](plot_parallelization.html).\n\n"
      ]
    }
  ],
  "metadata": {
    "kernelspec": {
      "display_name": "Python 3",
      "language": "python",
      "name": "python3"
    },
    "language_info": {
      "codemirror_mode": {
        "name": "ipython",
        "version": 3
      },
      "file_extension": ".py",
      "mimetype": "text/x-python",
      "name": "python",
      "nbconvert_exporter": "python",
      "pygments_lexer": "ipython3",
      "version": "3.9.12"
    }
  },
  "nbformat": 4,
  "nbformat_minor": 0
}